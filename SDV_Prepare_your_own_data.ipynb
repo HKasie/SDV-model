{
  "cells": [
    {
      "cell_type": "markdown",
      "metadata": {
        "id": "view-in-github",
        "colab_type": "text"
      },
      "source": [
        "<a href=\"https://colab.research.google.com/github/HKasie/SDV-model/blob/main/SDV_Prepare_your_own_data.ipynb\" target=\"_parent\"><img src=\"https://colab.research.google.com/assets/colab-badge.svg\" alt=\"Open In Colab\"/></a>"
      ]
    },
    {
      "cell_type": "markdown",
      "metadata": {
        "id": "WJZteD10A1eR"
      },
      "source": [
        "# Prepare your own data\n",
        "While the SDV offers many publicly available demo datasets, you may want to use one of your own, private datasets for synthetic data creation.\n",
        "\n",
        "In this notebook, we'll cover the basics of how you can prepare your data for the SDV. This includes loading your data and writing a metadata description of the tables.\n",
        "\n",
        "_Last Edit: Oct 2, 2024_"
      ]
    },
    {
      "cell_type": "markdown",
      "metadata": {
        "id": "lvY6xT94A3Wo"
      },
      "source": [
        "# 0. Installation\n",
        "\n",
        "Install the SDV library."
      ]
    },
    {
      "cell_type": "code",
      "execution_count": null,
      "metadata": {
        "id": "lW0ntc-HAzPS",
        "collapsed": true,
        "colab": {
          "base_uri": "https://localhost:8080/"
        },
        "outputId": "a333c723-94fb-4339-ec59-66d940803892"
      },
      "outputs": [
        {
          "output_type": "stream",
          "name": "stdout",
          "text": [
            "Collecting sdv\n",
            "  Downloading sdv-1.17.0-py3-none-any.whl.metadata (13 kB)\n",
            "Collecting boto3<2.0.0,>=1.28 (from sdv)\n",
            "  Downloading boto3-1.35.31-py3-none-any.whl.metadata (6.6 kB)\n",
            "Collecting botocore<2.0.0,>=1.31 (from sdv)\n",
            "  Downloading botocore-1.35.31-py3-none-any.whl.metadata (5.6 kB)\n",
            "Requirement already satisfied: cloudpickle>=2.1.0 in /usr/local/lib/python3.10/dist-packages (from sdv) (2.2.1)\n",
            "Requirement already satisfied: graphviz>=0.13.2 in /usr/local/lib/python3.10/dist-packages (from sdv) (0.20.3)\n",
            "Requirement already satisfied: tqdm>=4.29 in /usr/local/lib/python3.10/dist-packages (from sdv) (4.66.5)\n",
            "Collecting copulas>=0.11.0 (from sdv)\n",
            "  Downloading copulas-0.11.1-py3-none-any.whl.metadata (9.1 kB)\n",
            "Collecting ctgan>=0.10.0 (from sdv)\n",
            "  Downloading ctgan-0.10.1-py3-none-any.whl.metadata (11 kB)\n",
            "Collecting deepecho>=0.6.0 (from sdv)\n",
            "  Downloading deepecho-0.6.0-py3-none-any.whl.metadata (10 kB)\n",
            "Collecting rdt>=1.12.3 (from sdv)\n",
            "  Downloading rdt-1.12.4-py3-none-any.whl.metadata (10 kB)\n",
            "Collecting sdmetrics>=0.16.0 (from sdv)\n",
            "  Downloading sdmetrics-0.16.0-py3-none-any.whl.metadata (8.7 kB)\n",
            "Requirement already satisfied: platformdirs>=4.0 in /usr/local/lib/python3.10/dist-packages (from sdv) (4.3.6)\n",
            "Requirement already satisfied: pyyaml>=6.0.1 in /usr/local/lib/python3.10/dist-packages (from sdv) (6.0.2)\n",
            "Requirement already satisfied: pandas>=1.4.0 in /usr/local/lib/python3.10/dist-packages (from sdv) (2.2.2)\n",
            "Requirement already satisfied: numpy<2.0.0,>=1.23.3 in /usr/local/lib/python3.10/dist-packages (from sdv) (1.26.4)\n",
            "Collecting jmespath<2.0.0,>=0.7.1 (from boto3<2.0.0,>=1.28->sdv)\n",
            "  Downloading jmespath-1.0.1-py3-none-any.whl.metadata (7.6 kB)\n",
            "Collecting s3transfer<0.11.0,>=0.10.0 (from boto3<2.0.0,>=1.28->sdv)\n",
            "  Downloading s3transfer-0.10.2-py3-none-any.whl.metadata (1.7 kB)\n",
            "Requirement already satisfied: python-dateutil<3.0.0,>=2.1 in /usr/local/lib/python3.10/dist-packages (from botocore<2.0.0,>=1.31->sdv) (2.8.2)\n",
            "Requirement already satisfied: urllib3!=2.2.0,<3,>=1.25.4 in /usr/local/lib/python3.10/dist-packages (from botocore<2.0.0,>=1.31->sdv) (2.2.3)\n",
            "Requirement already satisfied: plotly>=5.10.0 in /usr/local/lib/python3.10/dist-packages (from copulas>=0.11.0->sdv) (5.24.1)\n",
            "Requirement already satisfied: scipy>=1.9.2 in /usr/local/lib/python3.10/dist-packages (from copulas>=0.11.0->sdv) (1.13.1)\n",
            "Requirement already satisfied: torch>=1.11.0 in /usr/local/lib/python3.10/dist-packages (from ctgan>=0.10.0->sdv) (2.4.1+cu121)\n",
            "Requirement already satisfied: pytz>=2020.1 in /usr/local/lib/python3.10/dist-packages (from pandas>=1.4.0->sdv) (2024.2)\n",
            "Requirement already satisfied: tzdata>=2022.7 in /usr/local/lib/python3.10/dist-packages (from pandas>=1.4.0->sdv) (2024.2)\n",
            "Collecting Faker>=17 (from rdt>=1.12.3->sdv)\n",
            "  Downloading Faker-30.1.0-py3-none-any.whl.metadata (15 kB)\n",
            "Requirement already satisfied: scikit-learn>=1.1.0 in /usr/local/lib/python3.10/dist-packages (from rdt>=1.12.3->sdv) (1.5.2)\n",
            "Requirement already satisfied: typing-extensions in /usr/local/lib/python3.10/dist-packages (from Faker>=17->rdt>=1.12.3->sdv) (4.12.2)\n",
            "Requirement already satisfied: tenacity>=6.2.0 in /usr/local/lib/python3.10/dist-packages (from plotly>=5.10.0->copulas>=0.11.0->sdv) (9.0.0)\n",
            "Requirement already satisfied: packaging in /usr/local/lib/python3.10/dist-packages (from plotly>=5.10.0->copulas>=0.11.0->sdv) (24.1)\n",
            "Requirement already satisfied: six>=1.5 in /usr/local/lib/python3.10/dist-packages (from python-dateutil<3.0.0,>=2.1->botocore<2.0.0,>=1.31->sdv) (1.16.0)\n",
            "Requirement already satisfied: joblib>=1.2.0 in /usr/local/lib/python3.10/dist-packages (from scikit-learn>=1.1.0->rdt>=1.12.3->sdv) (1.4.2)\n",
            "Requirement already satisfied: threadpoolctl>=3.1.0 in /usr/local/lib/python3.10/dist-packages (from scikit-learn>=1.1.0->rdt>=1.12.3->sdv) (3.5.0)\n",
            "Requirement already satisfied: filelock in /usr/local/lib/python3.10/dist-packages (from torch>=1.11.0->ctgan>=0.10.0->sdv) (3.16.1)\n",
            "Requirement already satisfied: sympy in /usr/local/lib/python3.10/dist-packages (from torch>=1.11.0->ctgan>=0.10.0->sdv) (1.13.3)\n",
            "Requirement already satisfied: networkx in /usr/local/lib/python3.10/dist-packages (from torch>=1.11.0->ctgan>=0.10.0->sdv) (3.3)\n",
            "Requirement already satisfied: jinja2 in /usr/local/lib/python3.10/dist-packages (from torch>=1.11.0->ctgan>=0.10.0->sdv) (3.1.4)\n",
            "Requirement already satisfied: fsspec in /usr/local/lib/python3.10/dist-packages (from torch>=1.11.0->ctgan>=0.10.0->sdv) (2024.6.1)\n",
            "Requirement already satisfied: MarkupSafe>=2.0 in /usr/local/lib/python3.10/dist-packages (from jinja2->torch>=1.11.0->ctgan>=0.10.0->sdv) (2.1.5)\n",
            "Requirement already satisfied: mpmath<1.4,>=1.1.0 in /usr/local/lib/python3.10/dist-packages (from sympy->torch>=1.11.0->ctgan>=0.10.0->sdv) (1.3.0)\n",
            "Downloading sdv-1.17.0-py3-none-any.whl (152 kB)\n",
            "\u001b[2K   \u001b[90m━━━━━━━━━━━━━━━━━━━━━━━━━━━━━━━━━━━━━━━━\u001b[0m \u001b[32m152.3/152.3 kB\u001b[0m \u001b[31m3.3 MB/s\u001b[0m eta \u001b[36m0:00:00\u001b[0m\n",
            "\u001b[?25hDownloading boto3-1.35.31-py3-none-any.whl (139 kB)\n",
            "\u001b[2K   \u001b[90m━━━━━━━━━━━━━━━━━━━━━━━━━━━━━━━━━━━━━━━━\u001b[0m \u001b[32m139.1/139.1 kB\u001b[0m \u001b[31m8.3 MB/s\u001b[0m eta \u001b[36m0:00:00\u001b[0m\n",
            "\u001b[?25hDownloading botocore-1.35.31-py3-none-any.whl (12.6 MB)\n",
            "\u001b[2K   \u001b[90m━━━━━━━━━━━━━━━━━━━━━━━━━━━━━━━━━━━━━━━━\u001b[0m \u001b[32m12.6/12.6 MB\u001b[0m \u001b[31m51.7 MB/s\u001b[0m eta \u001b[36m0:00:00\u001b[0m\n",
            "\u001b[?25hDownloading copulas-0.11.1-py3-none-any.whl (51 kB)\n",
            "\u001b[2K   \u001b[90m━━━━━━━━━━━━━━━━━━━━━━━━━━━━━━━━━━━━━━━━\u001b[0m \u001b[32m51.6/51.6 kB\u001b[0m \u001b[31m3.0 MB/s\u001b[0m eta \u001b[36m0:00:00\u001b[0m\n",
            "\u001b[?25hDownloading ctgan-0.10.1-py3-none-any.whl (24 kB)\n",
            "Downloading deepecho-0.6.0-py3-none-any.whl (27 kB)\n",
            "Downloading rdt-1.12.4-py3-none-any.whl (65 kB)\n",
            "\u001b[2K   \u001b[90m━━━━━━━━━━━━━━━━━━━━━━━━━━━━━━━━━━━━━━━━\u001b[0m \u001b[32m65.3/65.3 kB\u001b[0m \u001b[31m3.9 MB/s\u001b[0m eta \u001b[36m0:00:00\u001b[0m\n",
            "\u001b[?25hDownloading sdmetrics-0.16.0-py3-none-any.whl (170 kB)\n",
            "\u001b[2K   \u001b[90m━━━━━━━━━━━━━━━━━━━━━━━━━━━━━━━━━━━━━━━━\u001b[0m \u001b[32m170.5/170.5 kB\u001b[0m \u001b[31m10.2 MB/s\u001b[0m eta \u001b[36m0:00:00\u001b[0m\n",
            "\u001b[?25hDownloading Faker-30.1.0-py3-none-any.whl (1.8 MB)\n",
            "\u001b[2K   \u001b[90m━━━━━━━━━━━━━━━━━━━━━━━━━━━━━━━━━━━━━━━━\u001b[0m \u001b[32m1.8/1.8 MB\u001b[0m \u001b[31m40.6 MB/s\u001b[0m eta \u001b[36m0:00:00\u001b[0m\n",
            "\u001b[?25hDownloading jmespath-1.0.1-py3-none-any.whl (20 kB)\n",
            "Downloading s3transfer-0.10.2-py3-none-any.whl (82 kB)\n",
            "\u001b[2K   \u001b[90m━━━━━━━━━━━━━━━━━━━━━━━━━━━━━━━━━━━━━━━━\u001b[0m \u001b[32m82.7/82.7 kB\u001b[0m \u001b[31m4.7 MB/s\u001b[0m eta \u001b[36m0:00:00\u001b[0m\n",
            "\u001b[?25hInstalling collected packages: jmespath, Faker, botocore, s3transfer, rdt, deepecho, copulas, sdmetrics, ctgan, boto3, sdv\n",
            "Successfully installed Faker-30.1.0 boto3-1.35.31 botocore-1.35.31 copulas-0.11.1 ctgan-0.10.1 deepecho-0.6.0 jmespath-1.0.1 rdt-1.12.4 s3transfer-0.10.2 sdmetrics-0.16.0 sdv-1.17.0\n"
          ]
        }
      ],
      "source": [
        "%pip install sdv"
      ]
    },
    {
      "cell_type": "markdown",
      "metadata": {
        "id": "UuznBYmLA6hu"
      },
      "source": [
        "**Important**: If you're using Google Colab, please restart the runtime by clicking `Runtime` in the top menu bar and then `Restart Session`"
      ]
    },
    {
      "cell_type": "markdown",
      "source": [
        "![image.png](data:image/png;base64,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)"
      ],
      "metadata": {
        "id": "HhHL9UrrlsEi"
      }
    },
    {
      "cell_type": "markdown",
      "metadata": {
        "id": "8FAyiL_6BCAb"
      },
      "source": [
        "# 1. Loading your data (CSV)\n",
        "\n",
        "In many cases, your data is available in a CSV file format, where each file the data for a table.\n",
        "\n",
        "<font color=\"navy\"><b>Run the code below to attach the CSVs to this Google Colab notebook.</b> Click the \"Choose Files\" button to open up a file picker. Then, choose all the csv files that you'd like to use.</font>"
      ]
    },
    {
      "cell_type": "code",
      "execution_count": null,
      "metadata": {
        "id": "GU5MqtEGA4i6"
      },
      "outputs": [],
      "source": [
        "from google.colab import files\n",
        "\n",
        "# Optional: You can skip this step if you are running the code on your own\n",
        "# machine\n",
        "uploaded = files.upload()"
      ]
    },
    {
      "cell_type": "markdown",
      "metadata": {
        "id": "y6Rkta06BHOD"
      },
      "source": [
        "All the csv files are now available in a folder called `content/`. Now we can use the built-in SDV function to read all the csv files in a folder."
      ]
    },
    {
      "cell_type": "code",
      "execution_count": null,
      "metadata": {
        "id": "PY6SczEKBIsa"
      },
      "outputs": [],
      "source": [
        "from sdv.datasets.local import load_csvs\n",
        "from sdv.datasets.demo import download_demo\n",
        "\n",
        "# This is the default folder name that the GOogle Colab notebook uses.\n",
        "# Change this if you have your own folder with CSV files.\n",
        "FOLDER_NAME = 'content/'\n",
        "\n",
        "try:\n",
        "  data = load_csvs(folder_name='/content/')\n",
        "except ValueError:\n",
        "  print('You have not uploaded any csv files. Using some demo data instead.')\n",
        "  data, _ = download_demo(\n",
        "    modality='multi_table',\n",
        "    dataset_name='fake_hotels'\n",
        "  )"
      ]
    },
    {
      "cell_type": "markdown",
      "metadata": {
        "id": "UUx-otd2Bf2M"
      },
      "source": [
        "Now, you should have a dictionary called `datasets`. Inside of it, you'll see the name of every table (csv file) mapped to the actual data that it contains."
      ]
    },
    {
      "cell_type": "code",
      "execution_count": null,
      "metadata": {
        "id": "OUlVgIhZBdrF",
        "colab": {
          "base_uri": "https://localhost:8080/"
        },
        "outputId": "405792c0-f00a-45fb-86e9-baa9a5dc0068"
      },
      "outputs": [
        {
          "output_type": "execute_result",
          "data": {
            "text/plain": [
              "dict_keys(['guests', 'hotels'])"
            ]
          },
          "metadata": {},
          "execution_count": 2
        }
      ],
      "source": [
        "data.keys()"
      ]
    },
    {
      "cell_type": "markdown",
      "metadata": {
        "id": "Bb_m6VkJBijC"
      },
      "source": [
        "The data is loaded as a `pandas.DataFrame` object. The SDV uses these data frames to easily manipulate and model the data."
      ]
    },
    {
      "cell_type": "code",
      "execution_count": null,
      "metadata": {
        "id": "dhCLROGoBhMf",
        "colab": {
          "base_uri": "https://localhost:8080/",
          "height": 143
        },
        "outputId": "7d71dc42-5318-4209-f458-f412dbad3d1e"
      },
      "outputs": [
        {
          "output_type": "execute_result",
          "data": {
            "text/plain": [
              "  hotel_id           city           state  rating classification\n",
              "0  HID_000         Boston   Massachusetts     4.8         RESORT\n",
              "1  HID_001         Boston  Massachuesetts     4.1          CHAIN\n",
              "2  HID_002  San Francisco      California     3.8          MOTEL"
            ],
            "text/html": [
              "\n",
              "  <div id=\"df-a4b7a885-ce8a-4c66-934e-a3b9d9986087\" class=\"colab-df-container\">\n",
              "    <div>\n",
              "<style scoped>\n",
              "    .dataframe tbody tr th:only-of-type {\n",
              "        vertical-align: middle;\n",
              "    }\n",
              "\n",
              "    .dataframe tbody tr th {\n",
              "        vertical-align: top;\n",
              "    }\n",
              "\n",
              "    .dataframe thead th {\n",
              "        text-align: right;\n",
              "    }\n",
              "</style>\n",
              "<table border=\"1\" class=\"dataframe\">\n",
              "  <thead>\n",
              "    <tr style=\"text-align: right;\">\n",
              "      <th></th>\n",
              "      <th>hotel_id</th>\n",
              "      <th>city</th>\n",
              "      <th>state</th>\n",
              "      <th>rating</th>\n",
              "      <th>classification</th>\n",
              "    </tr>\n",
              "  </thead>\n",
              "  <tbody>\n",
              "    <tr>\n",
              "      <th>0</th>\n",
              "      <td>HID_000</td>\n",
              "      <td>Boston</td>\n",
              "      <td>Massachusetts</td>\n",
              "      <td>4.8</td>\n",
              "      <td>RESORT</td>\n",
              "    </tr>\n",
              "    <tr>\n",
              "      <th>1</th>\n",
              "      <td>HID_001</td>\n",
              "      <td>Boston</td>\n",
              "      <td>Massachuesetts</td>\n",
              "      <td>4.1</td>\n",
              "      <td>CHAIN</td>\n",
              "    </tr>\n",
              "    <tr>\n",
              "      <th>2</th>\n",
              "      <td>HID_002</td>\n",
              "      <td>San Francisco</td>\n",
              "      <td>California</td>\n",
              "      <td>3.8</td>\n",
              "      <td>MOTEL</td>\n",
              "    </tr>\n",
              "  </tbody>\n",
              "</table>\n",
              "</div>\n",
              "    <div class=\"colab-df-buttons\">\n",
              "\n",
              "  <div class=\"colab-df-container\">\n",
              "    <button class=\"colab-df-convert\" onclick=\"convertToInteractive('df-a4b7a885-ce8a-4c66-934e-a3b9d9986087')\"\n",
              "            title=\"Convert this dataframe to an interactive table.\"\n",
              "            style=\"display:none;\">\n",
              "\n",
              "  <svg xmlns=\"http://www.w3.org/2000/svg\" height=\"24px\" viewBox=\"0 -960 960 960\">\n",
              "    <path d=\"M120-120v-720h720v720H120Zm60-500h600v-160H180v160Zm220 220h160v-160H400v160Zm0 220h160v-160H400v160ZM180-400h160v-160H180v160Zm440 0h160v-160H620v160ZM180-180h160v-160H180v160Zm440 0h160v-160H620v160Z\"/>\n",
              "  </svg>\n",
              "    </button>\n",
              "\n",
              "  <style>\n",
              "    .colab-df-container {\n",
              "      display:flex;\n",
              "      gap: 12px;\n",
              "    }\n",
              "\n",
              "    .colab-df-convert {\n",
              "      background-color: #E8F0FE;\n",
              "      border: none;\n",
              "      border-radius: 50%;\n",
              "      cursor: pointer;\n",
              "      display: none;\n",
              "      fill: #1967D2;\n",
              "      height: 32px;\n",
              "      padding: 0 0 0 0;\n",
              "      width: 32px;\n",
              "    }\n",
              "\n",
              "    .colab-df-convert:hover {\n",
              "      background-color: #E2EBFA;\n",
              "      box-shadow: 0px 1px 2px rgba(60, 64, 67, 0.3), 0px 1px 3px 1px rgba(60, 64, 67, 0.15);\n",
              "      fill: #174EA6;\n",
              "    }\n",
              "\n",
              "    .colab-df-buttons div {\n",
              "      margin-bottom: 4px;\n",
              "    }\n",
              "\n",
              "    [theme=dark] .colab-df-convert {\n",
              "      background-color: #3B4455;\n",
              "      fill: #D2E3FC;\n",
              "    }\n",
              "\n",
              "    [theme=dark] .colab-df-convert:hover {\n",
              "      background-color: #434B5C;\n",
              "      box-shadow: 0px 1px 3px 1px rgba(0, 0, 0, 0.15);\n",
              "      filter: drop-shadow(0px 1px 2px rgba(0, 0, 0, 0.3));\n",
              "      fill: #FFFFFF;\n",
              "    }\n",
              "  </style>\n",
              "\n",
              "    <script>\n",
              "      const buttonEl =\n",
              "        document.querySelector('#df-a4b7a885-ce8a-4c66-934e-a3b9d9986087 button.colab-df-convert');\n",
              "      buttonEl.style.display =\n",
              "        google.colab.kernel.accessAllowed ? 'block' : 'none';\n",
              "\n",
              "      async function convertToInteractive(key) {\n",
              "        const element = document.querySelector('#df-a4b7a885-ce8a-4c66-934e-a3b9d9986087');\n",
              "        const dataTable =\n",
              "          await google.colab.kernel.invokeFunction('convertToInteractive',\n",
              "                                                    [key], {});\n",
              "        if (!dataTable) return;\n",
              "\n",
              "        const docLinkHtml = 'Like what you see? Visit the ' +\n",
              "          '<a target=\"_blank\" href=https://colab.research.google.com/notebooks/data_table.ipynb>data table notebook</a>'\n",
              "          + ' to learn more about interactive tables.';\n",
              "        element.innerHTML = '';\n",
              "        dataTable['output_type'] = 'display_data';\n",
              "        await google.colab.output.renderOutput(dataTable, element);\n",
              "        const docLink = document.createElement('div');\n",
              "        docLink.innerHTML = docLinkHtml;\n",
              "        element.appendChild(docLink);\n",
              "      }\n",
              "    </script>\n",
              "  </div>\n",
              "\n",
              "\n",
              "<div id=\"df-4e1f45b2-ab66-44f4-a2e4-6b694d042e6e\">\n",
              "  <button class=\"colab-df-quickchart\" onclick=\"quickchart('df-4e1f45b2-ab66-44f4-a2e4-6b694d042e6e')\"\n",
              "            title=\"Suggest charts\"\n",
              "            style=\"display:none;\">\n",
              "\n",
              "<svg xmlns=\"http://www.w3.org/2000/svg\" height=\"24px\"viewBox=\"0 0 24 24\"\n",
              "     width=\"24px\">\n",
              "    <g>\n",
              "        <path d=\"M19 3H5c-1.1 0-2 .9-2 2v14c0 1.1.9 2 2 2h14c1.1 0 2-.9 2-2V5c0-1.1-.9-2-2-2zM9 17H7v-7h2v7zm4 0h-2V7h2v10zm4 0h-2v-4h2v4z\"/>\n",
              "    </g>\n",
              "</svg>\n",
              "  </button>\n",
              "\n",
              "<style>\n",
              "  .colab-df-quickchart {\n",
              "      --bg-color: #E8F0FE;\n",
              "      --fill-color: #1967D2;\n",
              "      --hover-bg-color: #E2EBFA;\n",
              "      --hover-fill-color: #174EA6;\n",
              "      --disabled-fill-color: #AAA;\n",
              "      --disabled-bg-color: #DDD;\n",
              "  }\n",
              "\n",
              "  [theme=dark] .colab-df-quickchart {\n",
              "      --bg-color: #3B4455;\n",
              "      --fill-color: #D2E3FC;\n",
              "      --hover-bg-color: #434B5C;\n",
              "      --hover-fill-color: #FFFFFF;\n",
              "      --disabled-bg-color: #3B4455;\n",
              "      --disabled-fill-color: #666;\n",
              "  }\n",
              "\n",
              "  .colab-df-quickchart {\n",
              "    background-color: var(--bg-color);\n",
              "    border: none;\n",
              "    border-radius: 50%;\n",
              "    cursor: pointer;\n",
              "    display: none;\n",
              "    fill: var(--fill-color);\n",
              "    height: 32px;\n",
              "    padding: 0;\n",
              "    width: 32px;\n",
              "  }\n",
              "\n",
              "  .colab-df-quickchart:hover {\n",
              "    background-color: var(--hover-bg-color);\n",
              "    box-shadow: 0 1px 2px rgba(60, 64, 67, 0.3), 0 1px 3px 1px rgba(60, 64, 67, 0.15);\n",
              "    fill: var(--button-hover-fill-color);\n",
              "  }\n",
              "\n",
              "  .colab-df-quickchart-complete:disabled,\n",
              "  .colab-df-quickchart-complete:disabled:hover {\n",
              "    background-color: var(--disabled-bg-color);\n",
              "    fill: var(--disabled-fill-color);\n",
              "    box-shadow: none;\n",
              "  }\n",
              "\n",
              "  .colab-df-spinner {\n",
              "    border: 2px solid var(--fill-color);\n",
              "    border-color: transparent;\n",
              "    border-bottom-color: var(--fill-color);\n",
              "    animation:\n",
              "      spin 1s steps(1) infinite;\n",
              "  }\n",
              "\n",
              "  @keyframes spin {\n",
              "    0% {\n",
              "      border-color: transparent;\n",
              "      border-bottom-color: var(--fill-color);\n",
              "      border-left-color: var(--fill-color);\n",
              "    }\n",
              "    20% {\n",
              "      border-color: transparent;\n",
              "      border-left-color: var(--fill-color);\n",
              "      border-top-color: var(--fill-color);\n",
              "    }\n",
              "    30% {\n",
              "      border-color: transparent;\n",
              "      border-left-color: var(--fill-color);\n",
              "      border-top-color: var(--fill-color);\n",
              "      border-right-color: var(--fill-color);\n",
              "    }\n",
              "    40% {\n",
              "      border-color: transparent;\n",
              "      border-right-color: var(--fill-color);\n",
              "      border-top-color: var(--fill-color);\n",
              "    }\n",
              "    60% {\n",
              "      border-color: transparent;\n",
              "      border-right-color: var(--fill-color);\n",
              "    }\n",
              "    80% {\n",
              "      border-color: transparent;\n",
              "      border-right-color: var(--fill-color);\n",
              "      border-bottom-color: var(--fill-color);\n",
              "    }\n",
              "    90% {\n",
              "      border-color: transparent;\n",
              "      border-bottom-color: var(--fill-color);\n",
              "    }\n",
              "  }\n",
              "</style>\n",
              "\n",
              "  <script>\n",
              "    async function quickchart(key) {\n",
              "      const quickchartButtonEl =\n",
              "        document.querySelector('#' + key + ' button');\n",
              "      quickchartButtonEl.disabled = true;  // To prevent multiple clicks.\n",
              "      quickchartButtonEl.classList.add('colab-df-spinner');\n",
              "      try {\n",
              "        const charts = await google.colab.kernel.invokeFunction(\n",
              "            'suggestCharts', [key], {});\n",
              "      } catch (error) {\n",
              "        console.error('Error during call to suggestCharts:', error);\n",
              "      }\n",
              "      quickchartButtonEl.classList.remove('colab-df-spinner');\n",
              "      quickchartButtonEl.classList.add('colab-df-quickchart-complete');\n",
              "    }\n",
              "    (() => {\n",
              "      let quickchartButtonEl =\n",
              "        document.querySelector('#df-4e1f45b2-ab66-44f4-a2e4-6b694d042e6e button');\n",
              "      quickchartButtonEl.style.display =\n",
              "        google.colab.kernel.accessAllowed ? 'block' : 'none';\n",
              "    })();\n",
              "  </script>\n",
              "</div>\n",
              "\n",
              "    </div>\n",
              "  </div>\n"
            ],
            "application/vnd.google.colaboratory.intrinsic+json": {
              "type": "dataframe",
              "variable_name": "hotels_table",
              "summary": "{\n  \"name\": \"hotels_table\",\n  \"rows\": 10,\n  \"fields\": [\n    {\n      \"column\": \"hotel_id\",\n      \"properties\": {\n        \"dtype\": \"string\",\n        \"num_unique_values\": 10,\n        \"samples\": [\n          \"HID_008\",\n          \"HID_001\",\n          \"HID_005\"\n        ],\n        \"semantic_type\": \"\",\n        \"description\": \"\"\n      }\n    },\n    {\n      \"column\": \"city\",\n      \"properties\": {\n        \"dtype\": \"string\",\n        \"num_unique_values\": 5,\n        \"samples\": [\n          \"San Francisco\",\n          \"Los Angeles\",\n          \"New York City\"\n        ],\n        \"semantic_type\": \"\",\n        \"description\": \"\"\n      }\n    },\n    {\n      \"column\": \"state\",\n      \"properties\": {\n        \"dtype\": \"string\",\n        \"num_unique_values\": 5,\n        \"samples\": [\n          \"Massachuesetts\",\n          \"Texas\",\n          \"California\"\n        ],\n        \"semantic_type\": \"\",\n        \"description\": \"\"\n      }\n    },\n    {\n      \"column\": \"rating\",\n      \"properties\": {\n        \"dtype\": \"number\",\n        \"std\": 0.4387482193696061,\n        \"min\": 3.7,\n        \"max\": 4.9,\n        \"num_unique_values\": 8,\n        \"samples\": [\n          4.1,\n          4.6,\n          4.8\n        ],\n        \"semantic_type\": \"\",\n        \"description\": \"\"\n      }\n    },\n    {\n      \"column\": \"classification\",\n      \"properties\": {\n        \"dtype\": \"category\",\n        \"num_unique_values\": 3,\n        \"samples\": [\n          \"RESORT\",\n          \"CHAIN\",\n          \"MOTEL\"\n        ],\n        \"semantic_type\": \"\",\n        \"description\": \"\"\n      }\n    }\n  ]\n}"
            }
          },
          "metadata": {},
          "execution_count": 3
        }
      ],
      "source": [
        "hotels_table = data['hotels']\n",
        "\n",
        "# use the head method to inspect the first few rows of the data\n",
        "hotels_table.head(3)"
      ]
    },
    {
      "cell_type": "code",
      "execution_count": null,
      "metadata": {
        "id": "RwDhy2irBjwJ",
        "colab": {
          "base_uri": "https://localhost:8080/",
          "height": 268
        },
        "outputId": "55b99a85-a33e-4a27-dc75-46f5bfc72635"
      },
      "outputs": [
        {
          "output_type": "execute_result",
          "data": {
            "text/plain": [
              "                     guest_email hotel_id  has_rewards room_type  \\\n",
              "0             awolf@phillips.com  HID_000        False     BASIC   \n",
              "1  tonya44@wilkinson-wilkins.com  HID_000        False     BASIC   \n",
              "2     harriskathleen@goodwin.com  HID_000         True    DELUXE   \n",
              "\n",
              "   amenities_fee checkin_date checkout_date  room_rate  \\\n",
              "0          37.89  27 Dec 2020   28 Dec 2020     156.23   \n",
              "1          24.37  30 Dec 2020   31 Dec 2020     139.43   \n",
              "2           0.00  17 Sep 2020   19 Sep 2020     403.33   \n",
              "\n",
              "                              billing_address   credit_card_number  \n",
              "0   993 Rebecca Landing\\nJesseburgh, PA 05072  4075084747483975747  \n",
              "1  958 Beverly Bypass\\nSouth Ronald, GA 46368      180072822063468  \n",
              "2    8302 Nathaniel Pike\\nRileyland, TX 71613       38983476971380  "
            ],
            "text/html": [
              "\n",
              "  <div id=\"df-19957786-3f59-4d4a-939e-e3c6376b2af5\" class=\"colab-df-container\">\n",
              "    <div>\n",
              "<style scoped>\n",
              "    .dataframe tbody tr th:only-of-type {\n",
              "        vertical-align: middle;\n",
              "    }\n",
              "\n",
              "    .dataframe tbody tr th {\n",
              "        vertical-align: top;\n",
              "    }\n",
              "\n",
              "    .dataframe thead th {\n",
              "        text-align: right;\n",
              "    }\n",
              "</style>\n",
              "<table border=\"1\" class=\"dataframe\">\n",
              "  <thead>\n",
              "    <tr style=\"text-align: right;\">\n",
              "      <th></th>\n",
              "      <th>guest_email</th>\n",
              "      <th>hotel_id</th>\n",
              "      <th>has_rewards</th>\n",
              "      <th>room_type</th>\n",
              "      <th>amenities_fee</th>\n",
              "      <th>checkin_date</th>\n",
              "      <th>checkout_date</th>\n",
              "      <th>room_rate</th>\n",
              "      <th>billing_address</th>\n",
              "      <th>credit_card_number</th>\n",
              "    </tr>\n",
              "  </thead>\n",
              "  <tbody>\n",
              "    <tr>\n",
              "      <th>0</th>\n",
              "      <td>awolf@phillips.com</td>\n",
              "      <td>HID_000</td>\n",
              "      <td>False</td>\n",
              "      <td>BASIC</td>\n",
              "      <td>37.89</td>\n",
              "      <td>27 Dec 2020</td>\n",
              "      <td>28 Dec 2020</td>\n",
              "      <td>156.23</td>\n",
              "      <td>993 Rebecca Landing\\nJesseburgh, PA 05072</td>\n",
              "      <td>4075084747483975747</td>\n",
              "    </tr>\n",
              "    <tr>\n",
              "      <th>1</th>\n",
              "      <td>tonya44@wilkinson-wilkins.com</td>\n",
              "      <td>HID_000</td>\n",
              "      <td>False</td>\n",
              "      <td>BASIC</td>\n",
              "      <td>24.37</td>\n",
              "      <td>30 Dec 2020</td>\n",
              "      <td>31 Dec 2020</td>\n",
              "      <td>139.43</td>\n",
              "      <td>958 Beverly Bypass\\nSouth Ronald, GA 46368</td>\n",
              "      <td>180072822063468</td>\n",
              "    </tr>\n",
              "    <tr>\n",
              "      <th>2</th>\n",
              "      <td>harriskathleen@goodwin.com</td>\n",
              "      <td>HID_000</td>\n",
              "      <td>True</td>\n",
              "      <td>DELUXE</td>\n",
              "      <td>0.00</td>\n",
              "      <td>17 Sep 2020</td>\n",
              "      <td>19 Sep 2020</td>\n",
              "      <td>403.33</td>\n",
              "      <td>8302 Nathaniel Pike\\nRileyland, TX 71613</td>\n",
              "      <td>38983476971380</td>\n",
              "    </tr>\n",
              "  </tbody>\n",
              "</table>\n",
              "</div>\n",
              "    <div class=\"colab-df-buttons\">\n",
              "\n",
              "  <div class=\"colab-df-container\">\n",
              "    <button class=\"colab-df-convert\" onclick=\"convertToInteractive('df-19957786-3f59-4d4a-939e-e3c6376b2af5')\"\n",
              "            title=\"Convert this dataframe to an interactive table.\"\n",
              "            style=\"display:none;\">\n",
              "\n",
              "  <svg xmlns=\"http://www.w3.org/2000/svg\" height=\"24px\" viewBox=\"0 -960 960 960\">\n",
              "    <path d=\"M120-120v-720h720v720H120Zm60-500h600v-160H180v160Zm220 220h160v-160H400v160Zm0 220h160v-160H400v160ZM180-400h160v-160H180v160Zm440 0h160v-160H620v160ZM180-180h160v-160H180v160Zm440 0h160v-160H620v160Z\"/>\n",
              "  </svg>\n",
              "    </button>\n",
              "\n",
              "  <style>\n",
              "    .colab-df-container {\n",
              "      display:flex;\n",
              "      gap: 12px;\n",
              "    }\n",
              "\n",
              "    .colab-df-convert {\n",
              "      background-color: #E8F0FE;\n",
              "      border: none;\n",
              "      border-radius: 50%;\n",
              "      cursor: pointer;\n",
              "      display: none;\n",
              "      fill: #1967D2;\n",
              "      height: 32px;\n",
              "      padding: 0 0 0 0;\n",
              "      width: 32px;\n",
              "    }\n",
              "\n",
              "    .colab-df-convert:hover {\n",
              "      background-color: #E2EBFA;\n",
              "      box-shadow: 0px 1px 2px rgba(60, 64, 67, 0.3), 0px 1px 3px 1px rgba(60, 64, 67, 0.15);\n",
              "      fill: #174EA6;\n",
              "    }\n",
              "\n",
              "    .colab-df-buttons div {\n",
              "      margin-bottom: 4px;\n",
              "    }\n",
              "\n",
              "    [theme=dark] .colab-df-convert {\n",
              "      background-color: #3B4455;\n",
              "      fill: #D2E3FC;\n",
              "    }\n",
              "\n",
              "    [theme=dark] .colab-df-convert:hover {\n",
              "      background-color: #434B5C;\n",
              "      box-shadow: 0px 1px 3px 1px rgba(0, 0, 0, 0.15);\n",
              "      filter: drop-shadow(0px 1px 2px rgba(0, 0, 0, 0.3));\n",
              "      fill: #FFFFFF;\n",
              "    }\n",
              "  </style>\n",
              "\n",
              "    <script>\n",
              "      const buttonEl =\n",
              "        document.querySelector('#df-19957786-3f59-4d4a-939e-e3c6376b2af5 button.colab-df-convert');\n",
              "      buttonEl.style.display =\n",
              "        google.colab.kernel.accessAllowed ? 'block' : 'none';\n",
              "\n",
              "      async function convertToInteractive(key) {\n",
              "        const element = document.querySelector('#df-19957786-3f59-4d4a-939e-e3c6376b2af5');\n",
              "        const dataTable =\n",
              "          await google.colab.kernel.invokeFunction('convertToInteractive',\n",
              "                                                    [key], {});\n",
              "        if (!dataTable) return;\n",
              "\n",
              "        const docLinkHtml = 'Like what you see? Visit the ' +\n",
              "          '<a target=\"_blank\" href=https://colab.research.google.com/notebooks/data_table.ipynb>data table notebook</a>'\n",
              "          + ' to learn more about interactive tables.';\n",
              "        element.innerHTML = '';\n",
              "        dataTable['output_type'] = 'display_data';\n",
              "        await google.colab.output.renderOutput(dataTable, element);\n",
              "        const docLink = document.createElement('div');\n",
              "        docLink.innerHTML = docLinkHtml;\n",
              "        element.appendChild(docLink);\n",
              "      }\n",
              "    </script>\n",
              "  </div>\n",
              "\n",
              "\n",
              "<div id=\"df-5df3ab54-601a-4d0a-905f-741d208cff2f\">\n",
              "  <button class=\"colab-df-quickchart\" onclick=\"quickchart('df-5df3ab54-601a-4d0a-905f-741d208cff2f')\"\n",
              "            title=\"Suggest charts\"\n",
              "            style=\"display:none;\">\n",
              "\n",
              "<svg xmlns=\"http://www.w3.org/2000/svg\" height=\"24px\"viewBox=\"0 0 24 24\"\n",
              "     width=\"24px\">\n",
              "    <g>\n",
              "        <path d=\"M19 3H5c-1.1 0-2 .9-2 2v14c0 1.1.9 2 2 2h14c1.1 0 2-.9 2-2V5c0-1.1-.9-2-2-2zM9 17H7v-7h2v7zm4 0h-2V7h2v10zm4 0h-2v-4h2v4z\"/>\n",
              "    </g>\n",
              "</svg>\n",
              "  </button>\n",
              "\n",
              "<style>\n",
              "  .colab-df-quickchart {\n",
              "      --bg-color: #E8F0FE;\n",
              "      --fill-color: #1967D2;\n",
              "      --hover-bg-color: #E2EBFA;\n",
              "      --hover-fill-color: #174EA6;\n",
              "      --disabled-fill-color: #AAA;\n",
              "      --disabled-bg-color: #DDD;\n",
              "  }\n",
              "\n",
              "  [theme=dark] .colab-df-quickchart {\n",
              "      --bg-color: #3B4455;\n",
              "      --fill-color: #D2E3FC;\n",
              "      --hover-bg-color: #434B5C;\n",
              "      --hover-fill-color: #FFFFFF;\n",
              "      --disabled-bg-color: #3B4455;\n",
              "      --disabled-fill-color: #666;\n",
              "  }\n",
              "\n",
              "  .colab-df-quickchart {\n",
              "    background-color: var(--bg-color);\n",
              "    border: none;\n",
              "    border-radius: 50%;\n",
              "    cursor: pointer;\n",
              "    display: none;\n",
              "    fill: var(--fill-color);\n",
              "    height: 32px;\n",
              "    padding: 0;\n",
              "    width: 32px;\n",
              "  }\n",
              "\n",
              "  .colab-df-quickchart:hover {\n",
              "    background-color: var(--hover-bg-color);\n",
              "    box-shadow: 0 1px 2px rgba(60, 64, 67, 0.3), 0 1px 3px 1px rgba(60, 64, 67, 0.15);\n",
              "    fill: var(--button-hover-fill-color);\n",
              "  }\n",
              "\n",
              "  .colab-df-quickchart-complete:disabled,\n",
              "  .colab-df-quickchart-complete:disabled:hover {\n",
              "    background-color: var(--disabled-bg-color);\n",
              "    fill: var(--disabled-fill-color);\n",
              "    box-shadow: none;\n",
              "  }\n",
              "\n",
              "  .colab-df-spinner {\n",
              "    border: 2px solid var(--fill-color);\n",
              "    border-color: transparent;\n",
              "    border-bottom-color: var(--fill-color);\n",
              "    animation:\n",
              "      spin 1s steps(1) infinite;\n",
              "  }\n",
              "\n",
              "  @keyframes spin {\n",
              "    0% {\n",
              "      border-color: transparent;\n",
              "      border-bottom-color: var(--fill-color);\n",
              "      border-left-color: var(--fill-color);\n",
              "    }\n",
              "    20% {\n",
              "      border-color: transparent;\n",
              "      border-left-color: var(--fill-color);\n",
              "      border-top-color: var(--fill-color);\n",
              "    }\n",
              "    30% {\n",
              "      border-color: transparent;\n",
              "      border-left-color: var(--fill-color);\n",
              "      border-top-color: var(--fill-color);\n",
              "      border-right-color: var(--fill-color);\n",
              "    }\n",
              "    40% {\n",
              "      border-color: transparent;\n",
              "      border-right-color: var(--fill-color);\n",
              "      border-top-color: var(--fill-color);\n",
              "    }\n",
              "    60% {\n",
              "      border-color: transparent;\n",
              "      border-right-color: var(--fill-color);\n",
              "    }\n",
              "    80% {\n",
              "      border-color: transparent;\n",
              "      border-right-color: var(--fill-color);\n",
              "      border-bottom-color: var(--fill-color);\n",
              "    }\n",
              "    90% {\n",
              "      border-color: transparent;\n",
              "      border-bottom-color: var(--fill-color);\n",
              "    }\n",
              "  }\n",
              "</style>\n",
              "\n",
              "  <script>\n",
              "    async function quickchart(key) {\n",
              "      const quickchartButtonEl =\n",
              "        document.querySelector('#' + key + ' button');\n",
              "      quickchartButtonEl.disabled = true;  // To prevent multiple clicks.\n",
              "      quickchartButtonEl.classList.add('colab-df-spinner');\n",
              "      try {\n",
              "        const charts = await google.colab.kernel.invokeFunction(\n",
              "            'suggestCharts', [key], {});\n",
              "      } catch (error) {\n",
              "        console.error('Error during call to suggestCharts:', error);\n",
              "      }\n",
              "      quickchartButtonEl.classList.remove('colab-df-spinner');\n",
              "      quickchartButtonEl.classList.add('colab-df-quickchart-complete');\n",
              "    }\n",
              "    (() => {\n",
              "      let quickchartButtonEl =\n",
              "        document.querySelector('#df-5df3ab54-601a-4d0a-905f-741d208cff2f button');\n",
              "      quickchartButtonEl.style.display =\n",
              "        google.colab.kernel.accessAllowed ? 'block' : 'none';\n",
              "    })();\n",
              "  </script>\n",
              "</div>\n",
              "\n",
              "    </div>\n",
              "  </div>\n"
            ],
            "application/vnd.google.colaboratory.intrinsic+json": {
              "type": "dataframe",
              "variable_name": "guests_table",
              "summary": "{\n  \"name\": \"guests_table\",\n  \"rows\": 658,\n  \"fields\": [\n    {\n      \"column\": \"guest_email\",\n      \"properties\": {\n        \"dtype\": \"string\",\n        \"num_unique_values\": 658,\n        \"samples\": [\n          \"colleen20@farrell.biz\",\n          \"tonya92@ross.biz\",\n          \"davidgonzales@miller.com\"\n        ],\n        \"semantic_type\": \"\",\n        \"description\": \"\"\n      }\n    },\n    {\n      \"column\": \"hotel_id\",\n      \"properties\": {\n        \"dtype\": \"category\",\n        \"num_unique_values\": 10,\n        \"samples\": [\n          \"HID_008\",\n          \"HID_001\",\n          \"HID_005\"\n        ],\n        \"semantic_type\": \"\",\n        \"description\": \"\"\n      }\n    },\n    {\n      \"column\": \"has_rewards\",\n      \"properties\": {\n        \"dtype\": \"boolean\",\n        \"num_unique_values\": 2,\n        \"samples\": [\n          true,\n          false\n        ],\n        \"semantic_type\": \"\",\n        \"description\": \"\"\n      }\n    },\n    {\n      \"column\": \"room_type\",\n      \"properties\": {\n        \"dtype\": \"category\",\n        \"num_unique_values\": 3,\n        \"samples\": [\n          \"BASIC\",\n          \"DELUXE\"\n        ],\n        \"semantic_type\": \"\",\n        \"description\": \"\"\n      }\n    },\n    {\n      \"column\": \"amenities_fee\",\n      \"properties\": {\n        \"dtype\": \"number\",\n        \"std\": 11.365974502603226,\n        \"min\": 0.0,\n        \"max\": 46.64,\n        \"num_unique_values\": 485,\n        \"samples\": [\n          15.88,\n          12.4\n        ],\n        \"semantic_type\": \"\",\n        \"description\": \"\"\n      }\n    },\n    {\n      \"column\": \"checkin_date\",\n      \"properties\": {\n        \"dtype\": \"object\",\n        \"num_unique_values\": 315,\n        \"samples\": [\n          \"14 Dec 2020\",\n          \"11 Aug 2020\"\n        ],\n        \"semantic_type\": \"\",\n        \"description\": \"\"\n      }\n    },\n    {\n      \"column\": \"checkout_date\",\n      \"properties\": {\n        \"dtype\": \"object\",\n        \"num_unique_values\": 295,\n        \"samples\": [\n          \"28 Nov 2020\",\n          \"18 Sep 2020\"\n        ],\n        \"semantic_type\": \"\",\n        \"description\": \"\"\n      }\n    },\n    {\n      \"column\": \"room_rate\",\n      \"properties\": {\n        \"dtype\": \"number\",\n        \"std\": 70.83615720460726,\n        \"min\": 48.33,\n        \"max\": 481.61,\n        \"num_unique_values\": 652,\n        \"samples\": [\n          106.93,\n          151.85\n        ],\n        \"semantic_type\": \"\",\n        \"description\": \"\"\n      }\n    },\n    {\n      \"column\": \"billing_address\",\n      \"properties\": {\n        \"dtype\": \"category\",\n        \"num_unique_values\": 320,\n        \"samples\": [\n          \"PSC 6626, Box 2231\\nAPO AE 06142\",\n          \"032 Jacob Harbor\\nPort John, SD 06474\"\n        ],\n        \"semantic_type\": \"\",\n        \"description\": \"\"\n      }\n    },\n    {\n      \"column\": \"credit_card_number\",\n      \"properties\": {\n        \"dtype\": \"number\",\n        \"std\": 1217242659329026048,\n        \"min\": 60429619848,\n        \"max\": 4985421083146672550,\n        \"num_unique_values\": 658,\n        \"samples\": [\n          370262671281473,\n          6011923100915542\n        ],\n        \"semantic_type\": \"\",\n        \"description\": \"\"\n      }\n    }\n  ]\n}"
            }
          },
          "metadata": {},
          "execution_count": 4
        }
      ],
      "source": [
        "guests_table = data['guests']\n",
        "\n",
        "guests_table.head(3)"
      ]
    },
    {
      "cell_type": "markdown",
      "metadata": {
        "id": "v63wmyVvBmtE"
      },
      "source": [
        "# 2. Writing a Metadata Description\n",
        "The SDV requires that you provide a description of your data, also known as **metadata**.\n",
        "\n",
        "The metadata describes the types of data that are available in every column. If you have multiple tables, it also describes how those tables are connected."
      ]
    },
    {
      "cell_type": "markdown",
      "metadata": {
        "id": "95rccasYBo0V"
      },
      "source": [
        "## 2.1 Auto Detecting Metadata\n",
        "The easiest way to create our metadata object is by auto-detecting it from our data.\n",
        "\n",
        "<font color=\"maroon\"><b>Warning: The detected metadata is not guaranteed to be accurate or complete.</b> We'll update it later to correct it.</font>"
      ]
    },
    {
      "cell_type": "code",
      "execution_count": null,
      "metadata": {
        "id": "1mShSXMxBnug"
      },
      "outputs": [],
      "source": [
        "from sdv.metadata import Metadata\n",
        "\n",
        "metadata = Metadata.detect_from_dataframes(data)"
      ]
    },
    {
      "cell_type": "markdown",
      "metadata": {
        "id": "HSOO98YRBr33"
      },
      "source": [
        "We can inspect the auto detected metadata:"
      ]
    },
    {
      "cell_type": "code",
      "execution_count": null,
      "metadata": {
        "id": "eN_4J_wPBqh5",
        "colab": {
          "base_uri": "https://localhost:8080/",
          "height": 602
        },
        "outputId": "f9ff6dd4-d5d7-4dc2-a722-11efeaa7d86f"
      },
      "outputs": [
        {
          "output_type": "stream",
          "name": "stdout",
          "text": [
            "Auto detected data:\n",
            "\n"
          ]
        },
        {
          "output_type": "execute_result",
          "data": {
            "image/svg+xml": "<?xml version=\"1.0\" encoding=\"UTF-8\" standalone=\"no\"?>\n<!DOCTYPE svg PUBLIC \"-//W3C//DTD SVG 1.1//EN\"\n \"http://www.w3.org/Graphics/SVG/1.1/DTD/svg11.dtd\">\n<!-- Generated by graphviz version 2.43.0 (0)\n -->\n<!-- Title: Metadata Pages: 1 -->\n<svg width=\"255pt\" height=\"409pt\"\n viewBox=\"0.00 0.00 255.00 409.00\" xmlns=\"http://www.w3.org/2000/svg\" xmlns:xlink=\"http://www.w3.org/1999/xlink\">\n<g id=\"graph0\" class=\"graph\" transform=\"scale(1 1) rotate(0) translate(4 405)\">\n<title>Metadata</title>\n<polygon fill=\"white\" stroke=\"transparent\" points=\"-4,4 -4,-405 251,-405 251,4 -4,4\"/>\n<!-- guests -->\n<g id=\"node1\" class=\"node\">\n<title>guests</title>\n<path fill=\"#ffec8b\" stroke=\"black\" d=\"M12,-0.5C12,-0.5 235,-0.5 235,-0.5 241,-0.5 247,-6.5 247,-12.5 247,-12.5 247,-207.5 247,-207.5 247,-213.5 241,-219.5 235,-219.5 235,-219.5 12,-219.5 12,-219.5 6,-219.5 0,-213.5 0,-207.5 0,-207.5 0,-12.5 0,-12.5 0,-6.5 6,-0.5 12,-0.5\"/>\n<text text-anchor=\"middle\" x=\"123.5\" y=\"-204.3\" font-family=\"Times,serif\" font-size=\"14.00\">guests</text>\n<polyline fill=\"none\" stroke=\"black\" points=\"0,-196.5 247,-196.5 \"/>\n<text text-anchor=\"start\" x=\"8\" y=\"-181.3\" font-family=\"Times,serif\" font-size=\"14.00\">guest_email : email</text>\n<text text-anchor=\"start\" x=\"8\" y=\"-166.3\" font-family=\"Times,serif\" font-size=\"14.00\">hotel_id : id</text>\n<text text-anchor=\"start\" x=\"8\" y=\"-151.3\" font-family=\"Times,serif\" font-size=\"14.00\">has_rewards : categorical</text>\n<text text-anchor=\"start\" x=\"8\" y=\"-136.3\" font-family=\"Times,serif\" font-size=\"14.00\">room_type : categorical</text>\n<text text-anchor=\"start\" x=\"8\" y=\"-121.3\" font-family=\"Times,serif\" font-size=\"14.00\">amenities_fee : numerical</text>\n<text text-anchor=\"start\" x=\"8\" y=\"-106.3\" font-family=\"Times,serif\" font-size=\"14.00\">checkin_date : datetime</text>\n<text text-anchor=\"start\" x=\"8\" y=\"-91.3\" font-family=\"Times,serif\" font-size=\"14.00\">checkout_date : datetime</text>\n<text text-anchor=\"start\" x=\"8\" y=\"-76.3\" font-family=\"Times,serif\" font-size=\"14.00\">room_rate : numerical</text>\n<text text-anchor=\"start\" x=\"8\" y=\"-61.3\" font-family=\"Times,serif\" font-size=\"14.00\">billing_address : unknown</text>\n<text text-anchor=\"start\" x=\"8\" y=\"-46.3\" font-family=\"Times,serif\" font-size=\"14.00\">credit_card_number : credit_card_number</text>\n<polyline fill=\"none\" stroke=\"black\" points=\"0,-38.5 247,-38.5 \"/>\n<text text-anchor=\"start\" x=\"8\" y=\"-23.3\" font-family=\"Times,serif\" font-size=\"14.00\">Primary key: guest_email</text>\n<text text-anchor=\"start\" x=\"8\" y=\"-8.3\" font-family=\"Times,serif\" font-size=\"14.00\">Foreign key (hotels): hotel_id</text>\n</g>\n<!-- hotels -->\n<g id=\"node2\" class=\"node\">\n<title>hotels</title>\n<path fill=\"#ffec8b\" stroke=\"black\" d=\"M56.5,-271.5C56.5,-271.5 190.5,-271.5 190.5,-271.5 196.5,-271.5 202.5,-277.5 202.5,-283.5 202.5,-283.5 202.5,-388.5 202.5,-388.5 202.5,-394.5 196.5,-400.5 190.5,-400.5 190.5,-400.5 56.5,-400.5 56.5,-400.5 50.5,-400.5 44.5,-394.5 44.5,-388.5 44.5,-388.5 44.5,-283.5 44.5,-283.5 44.5,-277.5 50.5,-271.5 56.5,-271.5\"/>\n<text text-anchor=\"middle\" x=\"123.5\" y=\"-385.3\" font-family=\"Times,serif\" font-size=\"14.00\">hotels</text>\n<polyline fill=\"none\" stroke=\"black\" points=\"44.5,-377.5 202.5,-377.5 \"/>\n<text text-anchor=\"start\" x=\"52.5\" y=\"-362.3\" font-family=\"Times,serif\" font-size=\"14.00\">hotel_id : id</text>\n<text text-anchor=\"start\" x=\"52.5\" y=\"-347.3\" font-family=\"Times,serif\" font-size=\"14.00\">city : city</text>\n<text text-anchor=\"start\" x=\"52.5\" y=\"-332.3\" font-family=\"Times,serif\" font-size=\"14.00\">state : administrative_unit</text>\n<text text-anchor=\"start\" x=\"52.5\" y=\"-317.3\" font-family=\"Times,serif\" font-size=\"14.00\">rating : numerical</text>\n<text text-anchor=\"start\" x=\"52.5\" y=\"-302.3\" font-family=\"Times,serif\" font-size=\"14.00\">classification : unknown</text>\n<polyline fill=\"none\" stroke=\"black\" points=\"44.5,-294.5 202.5,-294.5 \"/>\n<text text-anchor=\"start\" x=\"52.5\" y=\"-279.3\" font-family=\"Times,serif\" font-size=\"14.00\">Primary key: hotel_id</text>\n</g>\n<!-- hotels&#45;&gt;guests -->\n<g id=\"edge1\" class=\"edge\">\n<title>hotels&#45;&gt;guests</title>\n<path fill=\"none\" stroke=\"black\" d=\"M123.5,-271.41C123.5,-258.4 123.5,-244.31 123.5,-230.07\"/>\n<polygon fill=\"none\" stroke=\"black\" points=\"127,-219.68 123.5,-229.68 120,-219.68 127,-219.68\"/>\n<text text-anchor=\"middle\" x=\"182.5\" y=\"-241.8\" font-family=\"Times,serif\" font-size=\"14.00\"> &#160;hotel_id → hotel_id</text>\n</g>\n</g>\n</svg>\n",
            "text/plain": [
              "<graphviz.graphs.Digraph at 0x7e2e18d59540>"
            ]
          },
          "metadata": {},
          "execution_count": 7
        }
      ],
      "source": [
        "print('Auto detected data:\\n')\n",
        "metadata.visualize()"
      ]
    },
    {
      "cell_type": "markdown",
      "metadata": {
        "id": "sVuC8kkRB0AS"
      },
      "source": [
        "The metadata auto-detected the connection between the `hotels` and `guests` table. Each column is associated with an **sdtype**, which describes the type of data.\n",
        "\n",
        "Notice that the sdtypes vary:\n",
        "- Statistical sdtypes such as `categorical`, `datetime` and `numerical` provide more general information about the type of data\n",
        "- Semantic sdtypes such as `credit_card_number` and `city` provide higher level information that is understandable to humans\n",
        "\n",
        "For more information, see the [sdtypes docs page](https://docs.sdv.dev/sdv/reference/metadata-spec/sdtypes).\n",
        "\n",
        "<font color=\"red\"><b>The auto-detected metadata is not guaranteed to be accurate or complete.</b></font> For example, notice how some of the columns are shown as `unknown` sdtype. Let's fix these columns to make it more accurate."
      ]
    },
    {
      "cell_type": "markdown",
      "metadata": {
        "id": "t0hMt90LB2wo"
      },
      "source": [
        "## 2.2 Fixing sdtypes\n",
        "\n",
        "**Hotels table**: Let's start with the hotels.\n",
        "\n",
        "The `classification` column is meant to be a discrete variable, so we can update it to be categorical.\n"
      ]
    },
    {
      "cell_type": "code",
      "execution_count": null,
      "metadata": {
        "id": "tdzuF950BtB3"
      },
      "outputs": [],
      "source": [
        "metadata.update_column(\n",
        "    table_name='hotels',\n",
        "    column_name='classification',\n",
        "    sdtype='categorical'\n",
        ")"
      ]
    },
    {
      "cell_type": "markdown",
      "source": [
        "Notice that `city` and `state` are marked with special sdtypes `city` and `administrative_unit`. SDV's sdtypes include higher-level concepts like this for better modeling.\n",
        "\n",
        "By default, these higher level concepts are considered **PII**, meaning that SDV will anonymize these columns. You can turn this off by marking PII as False."
      ],
      "metadata": {
        "id": "tewrvEVql7yI"
      }
    },
    {
      "cell_type": "code",
      "source": [
        "metadata.update_column(\n",
        "    table_name='hotels',\n",
        "    column_name='state',\n",
        "    sdtype='administrative_unit',\n",
        "    pii=False\n",
        ")"
      ],
      "metadata": {
        "id": "YK-tJk5pKJXJ"
      },
      "execution_count": null,
      "outputs": []
    },
    {
      "cell_type": "markdown",
      "source": [
        "**Guests table**: Now we can move onto the guests table."
      ],
      "metadata": {
        "id": "sc9KHNMOKNof"
      }
    },
    {
      "cell_type": "markdown",
      "source": [
        "The `billing_address` is currently marked as unknown. This is a PII value. Let's update this in the metadata too."
      ],
      "metadata": {
        "id": "_qhuhtwmKeJ5"
      }
    },
    {
      "cell_type": "code",
      "source": [
        "metadata.update_column(\n",
        "    table_name='guests',\n",
        "    column_name='billing_address',\n",
        "    sdtype='address',\n",
        "    pii=True\n",
        ")"
      ],
      "metadata": {
        "id": "cYLcPqwNKsR9"
      },
      "execution_count": null,
      "outputs": []
    },
    {
      "cell_type": "markdown",
      "metadata": {
        "id": "1hTeMzWECGzn"
      },
      "source": [
        "## 2.3 Validation\n",
        "Now, the metadata should be accurate. Let's validate that the metadata format makes sense. If successful, the code below should run without any errors."
      ]
    },
    {
      "cell_type": "code",
      "execution_count": null,
      "metadata": {
        "id": "mBPT-q-BCGLs"
      },
      "outputs": [],
      "source": [
        "metadata.validate()"
      ]
    },
    {
      "cell_type": "markdown",
      "metadata": {
        "id": "snY8wnFCCKC0"
      },
      "source": [
        "We can also validate that the metadata accurately matches the data that we provided. Similar to before, the code below should run without any errors."
      ]
    },
    {
      "cell_type": "code",
      "execution_count": null,
      "metadata": {
        "id": "1sLK-MFxCJTb"
      },
      "outputs": [],
      "source": [
        "metadata.validate_data(data=data)"
      ]
    },
    {
      "cell_type": "markdown",
      "metadata": {
        "id": "s8eS6-EPCg5g"
      },
      "source": [
        "Finally, we can also visualize the final structure data to verify that the columns and connections are ok."
      ]
    },
    {
      "cell_type": "code",
      "execution_count": null,
      "metadata": {
        "id": "Y5nQqKRnCjfK",
        "colab": {
          "base_uri": "https://localhost:8080/",
          "height": 566
        },
        "outputId": "8ea33bfa-3eae-4d64-8b47-188415597eb7"
      },
      "outputs": [
        {
          "output_type": "execute_result",
          "data": {
            "image/svg+xml": "<?xml version=\"1.0\" encoding=\"UTF-8\" standalone=\"no\"?>\n<!DOCTYPE svg PUBLIC \"-//W3C//DTD SVG 1.1//EN\"\n \"http://www.w3.org/Graphics/SVG/1.1/DTD/svg11.dtd\">\n<!-- Generated by graphviz version 2.43.0 (0)\n -->\n<!-- Title: Metadata Pages: 1 -->\n<svg width=\"255pt\" height=\"409pt\"\n viewBox=\"0.00 0.00 255.00 409.00\" xmlns=\"http://www.w3.org/2000/svg\" xmlns:xlink=\"http://www.w3.org/1999/xlink\">\n<g id=\"graph0\" class=\"graph\" transform=\"scale(1 1) rotate(0) translate(4 405)\">\n<title>Metadata</title>\n<polygon fill=\"white\" stroke=\"transparent\" points=\"-4,4 -4,-405 251,-405 251,4 -4,4\"/>\n<!-- guests -->\n<g id=\"node1\" class=\"node\">\n<title>guests</title>\n<path fill=\"#ffec8b\" stroke=\"black\" d=\"M12,-0.5C12,-0.5 235,-0.5 235,-0.5 241,-0.5 247,-6.5 247,-12.5 247,-12.5 247,-207.5 247,-207.5 247,-213.5 241,-219.5 235,-219.5 235,-219.5 12,-219.5 12,-219.5 6,-219.5 0,-213.5 0,-207.5 0,-207.5 0,-12.5 0,-12.5 0,-6.5 6,-0.5 12,-0.5\"/>\n<text text-anchor=\"middle\" x=\"123.5\" y=\"-204.3\" font-family=\"Times,serif\" font-size=\"14.00\">guests</text>\n<polyline fill=\"none\" stroke=\"black\" points=\"0,-196.5 247,-196.5 \"/>\n<text text-anchor=\"start\" x=\"8\" y=\"-181.3\" font-family=\"Times,serif\" font-size=\"14.00\">guest_email : email</text>\n<text text-anchor=\"start\" x=\"8\" y=\"-166.3\" font-family=\"Times,serif\" font-size=\"14.00\">hotel_id : id</text>\n<text text-anchor=\"start\" x=\"8\" y=\"-151.3\" font-family=\"Times,serif\" font-size=\"14.00\">has_rewards : categorical</text>\n<text text-anchor=\"start\" x=\"8\" y=\"-136.3\" font-family=\"Times,serif\" font-size=\"14.00\">room_type : categorical</text>\n<text text-anchor=\"start\" x=\"8\" y=\"-121.3\" font-family=\"Times,serif\" font-size=\"14.00\">amenities_fee : numerical</text>\n<text text-anchor=\"start\" x=\"8\" y=\"-106.3\" font-family=\"Times,serif\" font-size=\"14.00\">checkin_date : datetime</text>\n<text text-anchor=\"start\" x=\"8\" y=\"-91.3\" font-family=\"Times,serif\" font-size=\"14.00\">checkout_date : datetime</text>\n<text text-anchor=\"start\" x=\"8\" y=\"-76.3\" font-family=\"Times,serif\" font-size=\"14.00\">room_rate : numerical</text>\n<text text-anchor=\"start\" x=\"8\" y=\"-61.3\" font-family=\"Times,serif\" font-size=\"14.00\">billing_address : address</text>\n<text text-anchor=\"start\" x=\"8\" y=\"-46.3\" font-family=\"Times,serif\" font-size=\"14.00\">credit_card_number : credit_card_number</text>\n<polyline fill=\"none\" stroke=\"black\" points=\"0,-38.5 247,-38.5 \"/>\n<text text-anchor=\"start\" x=\"8\" y=\"-23.3\" font-family=\"Times,serif\" font-size=\"14.00\">Primary key: guest_email</text>\n<text text-anchor=\"start\" x=\"8\" y=\"-8.3\" font-family=\"Times,serif\" font-size=\"14.00\">Foreign key (hotels): hotel_id</text>\n</g>\n<!-- hotels -->\n<g id=\"node2\" class=\"node\">\n<title>hotels</title>\n<path fill=\"#ffec8b\" stroke=\"black\" d=\"M56.5,-271.5C56.5,-271.5 190.5,-271.5 190.5,-271.5 196.5,-271.5 202.5,-277.5 202.5,-283.5 202.5,-283.5 202.5,-388.5 202.5,-388.5 202.5,-394.5 196.5,-400.5 190.5,-400.5 190.5,-400.5 56.5,-400.5 56.5,-400.5 50.5,-400.5 44.5,-394.5 44.5,-388.5 44.5,-388.5 44.5,-283.5 44.5,-283.5 44.5,-277.5 50.5,-271.5 56.5,-271.5\"/>\n<text text-anchor=\"middle\" x=\"123.5\" y=\"-385.3\" font-family=\"Times,serif\" font-size=\"14.00\">hotels</text>\n<polyline fill=\"none\" stroke=\"black\" points=\"44.5,-377.5 202.5,-377.5 \"/>\n<text text-anchor=\"start\" x=\"52.5\" y=\"-362.3\" font-family=\"Times,serif\" font-size=\"14.00\">hotel_id : id</text>\n<text text-anchor=\"start\" x=\"52.5\" y=\"-347.3\" font-family=\"Times,serif\" font-size=\"14.00\">city : city</text>\n<text text-anchor=\"start\" x=\"52.5\" y=\"-332.3\" font-family=\"Times,serif\" font-size=\"14.00\">state : administrative_unit</text>\n<text text-anchor=\"start\" x=\"52.5\" y=\"-317.3\" font-family=\"Times,serif\" font-size=\"14.00\">rating : numerical</text>\n<text text-anchor=\"start\" x=\"52.5\" y=\"-302.3\" font-family=\"Times,serif\" font-size=\"14.00\">classification : categorical</text>\n<polyline fill=\"none\" stroke=\"black\" points=\"44.5,-294.5 202.5,-294.5 \"/>\n<text text-anchor=\"start\" x=\"52.5\" y=\"-279.3\" font-family=\"Times,serif\" font-size=\"14.00\">Primary key: hotel_id</text>\n</g>\n<!-- hotels&#45;&gt;guests -->\n<g id=\"edge1\" class=\"edge\">\n<title>hotels&#45;&gt;guests</title>\n<path fill=\"none\" stroke=\"black\" d=\"M123.5,-271.41C123.5,-258.4 123.5,-244.31 123.5,-230.07\"/>\n<polygon fill=\"none\" stroke=\"black\" points=\"127,-219.68 123.5,-229.68 120,-219.68 127,-219.68\"/>\n<text text-anchor=\"middle\" x=\"182.5\" y=\"-241.8\" font-family=\"Times,serif\" font-size=\"14.00\"> &#160;hotel_id → hotel_id</text>\n</g>\n</g>\n</svg>\n",
            "text/plain": [
              "<graphviz.graphs.Digraph at 0x7e2e165b5c60>"
            ]
          },
          "metadata": {},
          "execution_count": 14
        }
      ],
      "source": [
        "metadata.visualize()"
      ]
    },
    {
      "cell_type": "markdown",
      "metadata": {
        "id": "rXw0SEOBCli6"
      },
      "source": [
        "## 2.4 Saving the Metadata\n",
        "We **highly recommend saving the metadata** as a `JSON` object so we can re-use this description whenever we need to."
      ]
    },
    {
      "cell_type": "code",
      "execution_count": null,
      "metadata": {
        "id": "oNIr70zQCkGI"
      },
      "outputs": [],
      "source": [
        "metadata.save_to_json('metadata.json')\n",
        "\n",
        "# in the future, you can reload the metadata object from the file\n",
        "metadata = Metadata.load_from_json('metadata.json')"
      ]
    },
    {
      "cell_type": "markdown",
      "metadata": {
        "id": "N9S6Kz0RCvph"
      },
      "source": [
        "# 3. Creating Synthetic Data\n",
        "With these preparatory steps completed, we can now use the metadata description and data in the SDV. The coe below will train a model and create synthetic data."
      ]
    },
    {
      "cell_type": "code",
      "execution_count": null,
      "metadata": {
        "id": "7-PF8vWXCuCc",
        "colab": {
          "base_uri": "https://localhost:8080/"
        },
        "outputId": "fe7bddc0-25a9-4625-bd26-2d2a758b222a"
      },
      "outputs": [
        {
          "output_type": "stream",
          "name": "stderr",
          "text": [
            "Preprocess Tables: 100%|██████████| 2/2 [00:00<00:00,  3.82it/s]\n"
          ]
        },
        {
          "output_type": "stream",
          "name": "stdout",
          "text": [
            "\n",
            "Learning relationships:\n"
          ]
        },
        {
          "output_type": "stream",
          "name": "stderr",
          "text": [
            "(1/1) Tables 'hotels' and 'guests' ('hotel_id'): 100%|██████████| 10/10 [00:04<00:00,  2.19it/s]\n"
          ]
        },
        {
          "output_type": "stream",
          "name": "stdout",
          "text": [
            "\n"
          ]
        },
        {
          "output_type": "stream",
          "name": "stderr",
          "text": [
            "Modeling Tables: 100%|██████████| 2/2 [00:01<00:00,  1.94it/s]\n"
          ]
        }
      ],
      "source": [
        "from sdv.multi_table import HMASynthesizer\n",
        "\n",
        "synthesizer = HMASynthesizer(metadata)\n",
        "synthesizer.fit(data)\n",
        "synthetic_data = synthesizer.sample(scale=1)"
      ]
    },
    {
      "cell_type": "markdown",
      "metadata": {
        "id": "gcv2FK-VC4eB"
      },
      "source": [
        "The synthetic data contains the same tables, columns and connections as the real data."
      ]
    },
    {
      "cell_type": "code",
      "source": [
        "synthetic_data['hotels'].head(3)"
      ],
      "metadata": {
        "id": "HcYwU7_Voo_6",
        "colab": {
          "base_uri": "https://localhost:8080/",
          "height": 143
        },
        "outputId": "f759391f-d51b-441e-89de-e924b22b45ae"
      },
      "execution_count": null,
      "outputs": [
        {
          "output_type": "execute_result",
          "data": {
            "text/plain": [
              "        hotel_id              city       state  rating classification\n",
              "0  sdv-id-UpYymO   Samanthachester    New York     4.2          CHAIN\n",
              "1  sdv-id-CxrCUU  South Nicolefort  California     4.8         RESORT\n",
              "2  sdv-id-PIQQQy   Port Danielport    New York     4.3          CHAIN"
            ],
            "text/html": [
              "\n",
              "  <div id=\"df-3f13acf7-7157-4119-93ab-30c5136b017c\" class=\"colab-df-container\">\n",
              "    <div>\n",
              "<style scoped>\n",
              "    .dataframe tbody tr th:only-of-type {\n",
              "        vertical-align: middle;\n",
              "    }\n",
              "\n",
              "    .dataframe tbody tr th {\n",
              "        vertical-align: top;\n",
              "    }\n",
              "\n",
              "    .dataframe thead th {\n",
              "        text-align: right;\n",
              "    }\n",
              "</style>\n",
              "<table border=\"1\" class=\"dataframe\">\n",
              "  <thead>\n",
              "    <tr style=\"text-align: right;\">\n",
              "      <th></th>\n",
              "      <th>hotel_id</th>\n",
              "      <th>city</th>\n",
              "      <th>state</th>\n",
              "      <th>rating</th>\n",
              "      <th>classification</th>\n",
              "    </tr>\n",
              "  </thead>\n",
              "  <tbody>\n",
              "    <tr>\n",
              "      <th>0</th>\n",
              "      <td>sdv-id-UpYymO</td>\n",
              "      <td>Samanthachester</td>\n",
              "      <td>New York</td>\n",
              "      <td>4.2</td>\n",
              "      <td>CHAIN</td>\n",
              "    </tr>\n",
              "    <tr>\n",
              "      <th>1</th>\n",
              "      <td>sdv-id-CxrCUU</td>\n",
              "      <td>South Nicolefort</td>\n",
              "      <td>California</td>\n",
              "      <td>4.8</td>\n",
              "      <td>RESORT</td>\n",
              "    </tr>\n",
              "    <tr>\n",
              "      <th>2</th>\n",
              "      <td>sdv-id-PIQQQy</td>\n",
              "      <td>Port Danielport</td>\n",
              "      <td>New York</td>\n",
              "      <td>4.3</td>\n",
              "      <td>CHAIN</td>\n",
              "    </tr>\n",
              "  </tbody>\n",
              "</table>\n",
              "</div>\n",
              "    <div class=\"colab-df-buttons\">\n",
              "\n",
              "  <div class=\"colab-df-container\">\n",
              "    <button class=\"colab-df-convert\" onclick=\"convertToInteractive('df-3f13acf7-7157-4119-93ab-30c5136b017c')\"\n",
              "            title=\"Convert this dataframe to an interactive table.\"\n",
              "            style=\"display:none;\">\n",
              "\n",
              "  <svg xmlns=\"http://www.w3.org/2000/svg\" height=\"24px\" viewBox=\"0 -960 960 960\">\n",
              "    <path d=\"M120-120v-720h720v720H120Zm60-500h600v-160H180v160Zm220 220h160v-160H400v160Zm0 220h160v-160H400v160ZM180-400h160v-160H180v160Zm440 0h160v-160H620v160ZM180-180h160v-160H180v160Zm440 0h160v-160H620v160Z\"/>\n",
              "  </svg>\n",
              "    </button>\n",
              "\n",
              "  <style>\n",
              "    .colab-df-container {\n",
              "      display:flex;\n",
              "      gap: 12px;\n",
              "    }\n",
              "\n",
              "    .colab-df-convert {\n",
              "      background-color: #E8F0FE;\n",
              "      border: none;\n",
              "      border-radius: 50%;\n",
              "      cursor: pointer;\n",
              "      display: none;\n",
              "      fill: #1967D2;\n",
              "      height: 32px;\n",
              "      padding: 0 0 0 0;\n",
              "      width: 32px;\n",
              "    }\n",
              "\n",
              "    .colab-df-convert:hover {\n",
              "      background-color: #E2EBFA;\n",
              "      box-shadow: 0px 1px 2px rgba(60, 64, 67, 0.3), 0px 1px 3px 1px rgba(60, 64, 67, 0.15);\n",
              "      fill: #174EA6;\n",
              "    }\n",
              "\n",
              "    .colab-df-buttons div {\n",
              "      margin-bottom: 4px;\n",
              "    }\n",
              "\n",
              "    [theme=dark] .colab-df-convert {\n",
              "      background-color: #3B4455;\n",
              "      fill: #D2E3FC;\n",
              "    }\n",
              "\n",
              "    [theme=dark] .colab-df-convert:hover {\n",
              "      background-color: #434B5C;\n",
              "      box-shadow: 0px 1px 3px 1px rgba(0, 0, 0, 0.15);\n",
              "      filter: drop-shadow(0px 1px 2px rgba(0, 0, 0, 0.3));\n",
              "      fill: #FFFFFF;\n",
              "    }\n",
              "  </style>\n",
              "\n",
              "    <script>\n",
              "      const buttonEl =\n",
              "        document.querySelector('#df-3f13acf7-7157-4119-93ab-30c5136b017c button.colab-df-convert');\n",
              "      buttonEl.style.display =\n",
              "        google.colab.kernel.accessAllowed ? 'block' : 'none';\n",
              "\n",
              "      async function convertToInteractive(key) {\n",
              "        const element = document.querySelector('#df-3f13acf7-7157-4119-93ab-30c5136b017c');\n",
              "        const dataTable =\n",
              "          await google.colab.kernel.invokeFunction('convertToInteractive',\n",
              "                                                    [key], {});\n",
              "        if (!dataTable) return;\n",
              "\n",
              "        const docLinkHtml = 'Like what you see? Visit the ' +\n",
              "          '<a target=\"_blank\" href=https://colab.research.google.com/notebooks/data_table.ipynb>data table notebook</a>'\n",
              "          + ' to learn more about interactive tables.';\n",
              "        element.innerHTML = '';\n",
              "        dataTable['output_type'] = 'display_data';\n",
              "        await google.colab.output.renderOutput(dataTable, element);\n",
              "        const docLink = document.createElement('div');\n",
              "        docLink.innerHTML = docLinkHtml;\n",
              "        element.appendChild(docLink);\n",
              "      }\n",
              "    </script>\n",
              "  </div>\n",
              "\n",
              "\n",
              "<div id=\"df-d2ae1ac7-4769-4c5c-b6ea-e3ab062d7fe8\">\n",
              "  <button class=\"colab-df-quickchart\" onclick=\"quickchart('df-d2ae1ac7-4769-4c5c-b6ea-e3ab062d7fe8')\"\n",
              "            title=\"Suggest charts\"\n",
              "            style=\"display:none;\">\n",
              "\n",
              "<svg xmlns=\"http://www.w3.org/2000/svg\" height=\"24px\"viewBox=\"0 0 24 24\"\n",
              "     width=\"24px\">\n",
              "    <g>\n",
              "        <path d=\"M19 3H5c-1.1 0-2 .9-2 2v14c0 1.1.9 2 2 2h14c1.1 0 2-.9 2-2V5c0-1.1-.9-2-2-2zM9 17H7v-7h2v7zm4 0h-2V7h2v10zm4 0h-2v-4h2v4z\"/>\n",
              "    </g>\n",
              "</svg>\n",
              "  </button>\n",
              "\n",
              "<style>\n",
              "  .colab-df-quickchart {\n",
              "      --bg-color: #E8F0FE;\n",
              "      --fill-color: #1967D2;\n",
              "      --hover-bg-color: #E2EBFA;\n",
              "      --hover-fill-color: #174EA6;\n",
              "      --disabled-fill-color: #AAA;\n",
              "      --disabled-bg-color: #DDD;\n",
              "  }\n",
              "\n",
              "  [theme=dark] .colab-df-quickchart {\n",
              "      --bg-color: #3B4455;\n",
              "      --fill-color: #D2E3FC;\n",
              "      --hover-bg-color: #434B5C;\n",
              "      --hover-fill-color: #FFFFFF;\n",
              "      --disabled-bg-color: #3B4455;\n",
              "      --disabled-fill-color: #666;\n",
              "  }\n",
              "\n",
              "  .colab-df-quickchart {\n",
              "    background-color: var(--bg-color);\n",
              "    border: none;\n",
              "    border-radius: 50%;\n",
              "    cursor: pointer;\n",
              "    display: none;\n",
              "    fill: var(--fill-color);\n",
              "    height: 32px;\n",
              "    padding: 0;\n",
              "    width: 32px;\n",
              "  }\n",
              "\n",
              "  .colab-df-quickchart:hover {\n",
              "    background-color: var(--hover-bg-color);\n",
              "    box-shadow: 0 1px 2px rgba(60, 64, 67, 0.3), 0 1px 3px 1px rgba(60, 64, 67, 0.15);\n",
              "    fill: var(--button-hover-fill-color);\n",
              "  }\n",
              "\n",
              "  .colab-df-quickchart-complete:disabled,\n",
              "  .colab-df-quickchart-complete:disabled:hover {\n",
              "    background-color: var(--disabled-bg-color);\n",
              "    fill: var(--disabled-fill-color);\n",
              "    box-shadow: none;\n",
              "  }\n",
              "\n",
              "  .colab-df-spinner {\n",
              "    border: 2px solid var(--fill-color);\n",
              "    border-color: transparent;\n",
              "    border-bottom-color: var(--fill-color);\n",
              "    animation:\n",
              "      spin 1s steps(1) infinite;\n",
              "  }\n",
              "\n",
              "  @keyframes spin {\n",
              "    0% {\n",
              "      border-color: transparent;\n",
              "      border-bottom-color: var(--fill-color);\n",
              "      border-left-color: var(--fill-color);\n",
              "    }\n",
              "    20% {\n",
              "      border-color: transparent;\n",
              "      border-left-color: var(--fill-color);\n",
              "      border-top-color: var(--fill-color);\n",
              "    }\n",
              "    30% {\n",
              "      border-color: transparent;\n",
              "      border-left-color: var(--fill-color);\n",
              "      border-top-color: var(--fill-color);\n",
              "      border-right-color: var(--fill-color);\n",
              "    }\n",
              "    40% {\n",
              "      border-color: transparent;\n",
              "      border-right-color: var(--fill-color);\n",
              "      border-top-color: var(--fill-color);\n",
              "    }\n",
              "    60% {\n",
              "      border-color: transparent;\n",
              "      border-right-color: var(--fill-color);\n",
              "    }\n",
              "    80% {\n",
              "      border-color: transparent;\n",
              "      border-right-color: var(--fill-color);\n",
              "      border-bottom-color: var(--fill-color);\n",
              "    }\n",
              "    90% {\n",
              "      border-color: transparent;\n",
              "      border-bottom-color: var(--fill-color);\n",
              "    }\n",
              "  }\n",
              "</style>\n",
              "\n",
              "  <script>\n",
              "    async function quickchart(key) {\n",
              "      const quickchartButtonEl =\n",
              "        document.querySelector('#' + key + ' button');\n",
              "      quickchartButtonEl.disabled = true;  // To prevent multiple clicks.\n",
              "      quickchartButtonEl.classList.add('colab-df-spinner');\n",
              "      try {\n",
              "        const charts = await google.colab.kernel.invokeFunction(\n",
              "            'suggestCharts', [key], {});\n",
              "      } catch (error) {\n",
              "        console.error('Error during call to suggestCharts:', error);\n",
              "      }\n",
              "      quickchartButtonEl.classList.remove('colab-df-spinner');\n",
              "      quickchartButtonEl.classList.add('colab-df-quickchart-complete');\n",
              "    }\n",
              "    (() => {\n",
              "      let quickchartButtonEl =\n",
              "        document.querySelector('#df-d2ae1ac7-4769-4c5c-b6ea-e3ab062d7fe8 button');\n",
              "      quickchartButtonEl.style.display =\n",
              "        google.colab.kernel.accessAllowed ? 'block' : 'none';\n",
              "    })();\n",
              "  </script>\n",
              "</div>\n",
              "\n",
              "    </div>\n",
              "  </div>\n"
            ],
            "application/vnd.google.colaboratory.intrinsic+json": {
              "type": "dataframe",
              "summary": "{\n  \"name\": \"synthetic_data['hotels']\",\n  \"rows\": 3,\n  \"fields\": [\n    {\n      \"column\": \"hotel_id\",\n      \"properties\": {\n        \"dtype\": \"string\",\n        \"num_unique_values\": 3,\n        \"samples\": [\n          \"sdv-id-UpYymO\",\n          \"sdv-id-CxrCUU\",\n          \"sdv-id-PIQQQy\"\n        ],\n        \"semantic_type\": \"\",\n        \"description\": \"\"\n      }\n    },\n    {\n      \"column\": \"city\",\n      \"properties\": {\n        \"dtype\": \"string\",\n        \"num_unique_values\": 3,\n        \"samples\": [\n          \"Samanthachester\",\n          \"South Nicolefort\",\n          \"Port Danielport\"\n        ],\n        \"semantic_type\": \"\",\n        \"description\": \"\"\n      }\n    },\n    {\n      \"column\": \"state\",\n      \"properties\": {\n        \"dtype\": \"string\",\n        \"num_unique_values\": 2,\n        \"samples\": [\n          \"California\",\n          \"New York\"\n        ],\n        \"semantic_type\": \"\",\n        \"description\": \"\"\n      }\n    },\n    {\n      \"column\": \"rating\",\n      \"properties\": {\n        \"dtype\": \"number\",\n        \"std\": 0.3214550253664317,\n        \"min\": 4.2,\n        \"max\": 4.8,\n        \"num_unique_values\": 3,\n        \"samples\": [\n          4.2,\n          4.8\n        ],\n        \"semantic_type\": \"\",\n        \"description\": \"\"\n      }\n    },\n    {\n      \"column\": \"classification\",\n      \"properties\": {\n        \"dtype\": \"string\",\n        \"num_unique_values\": 2,\n        \"samples\": [\n          \"RESORT\",\n          \"CHAIN\"\n        ],\n        \"semantic_type\": \"\",\n        \"description\": \"\"\n      }\n    }\n  ]\n}"
            }
          },
          "metadata": {},
          "execution_count": 17
        }
      ]
    },
    {
      "cell_type": "code",
      "execution_count": null,
      "metadata": {
        "id": "jOLc1GEnC3kD",
        "colab": {
          "base_uri": "https://localhost:8080/",
          "height": 285
        },
        "outputId": "f0c28ffb-497b-4df6-938a-d47e0f164111"
      },
      "outputs": [
        {
          "output_type": "execute_result",
          "data": {
            "text/plain": [
              "              guest_email       hotel_id  has_rewards room_type  \\\n",
              "0   moodyeric@example.net  sdv-id-UpYymO        False     BASIC   \n",
              "1  coryguzman@example.com  sdv-id-UpYymO        False     BASIC   \n",
              "2  caitlinlee@example.net  sdv-id-UpYymO        False     BASIC   \n",
              "\n",
              "   amenities_fee checkin_date checkout_date  room_rate  \\\n",
              "0          26.56  15 Nov 2020   23 Oct 2020      88.68   \n",
              "1          18.22  09 Jun 2020   15 Mar 2020      88.97   \n",
              "2          11.87  09 Sep 2020   30 Aug 2020      88.68   \n",
              "\n",
              "                                     billing_address   credit_card_number  \n",
              "0                   PSC 4273, Box 0888\\nAPO AA 28423     5161033759518983  \n",
              "1      417 Lawrence Hollow\\nEast Ericshire, IN 65660  4133047413145475690  \n",
              "2  69754 Mcguire Haven Apt. 260\\nCrawfordside, IN...        4977328103788  "
            ],
            "text/html": [
              "\n",
              "  <div id=\"df-0cdf8662-1318-4c6d-bb0d-950853e8e50f\" class=\"colab-df-container\">\n",
              "    <div>\n",
              "<style scoped>\n",
              "    .dataframe tbody tr th:only-of-type {\n",
              "        vertical-align: middle;\n",
              "    }\n",
              "\n",
              "    .dataframe tbody tr th {\n",
              "        vertical-align: top;\n",
              "    }\n",
              "\n",
              "    .dataframe thead th {\n",
              "        text-align: right;\n",
              "    }\n",
              "</style>\n",
              "<table border=\"1\" class=\"dataframe\">\n",
              "  <thead>\n",
              "    <tr style=\"text-align: right;\">\n",
              "      <th></th>\n",
              "      <th>guest_email</th>\n",
              "      <th>hotel_id</th>\n",
              "      <th>has_rewards</th>\n",
              "      <th>room_type</th>\n",
              "      <th>amenities_fee</th>\n",
              "      <th>checkin_date</th>\n",
              "      <th>checkout_date</th>\n",
              "      <th>room_rate</th>\n",
              "      <th>billing_address</th>\n",
              "      <th>credit_card_number</th>\n",
              "    </tr>\n",
              "  </thead>\n",
              "  <tbody>\n",
              "    <tr>\n",
              "      <th>0</th>\n",
              "      <td>moodyeric@example.net</td>\n",
              "      <td>sdv-id-UpYymO</td>\n",
              "      <td>False</td>\n",
              "      <td>BASIC</td>\n",
              "      <td>26.56</td>\n",
              "      <td>15 Nov 2020</td>\n",
              "      <td>23 Oct 2020</td>\n",
              "      <td>88.68</td>\n",
              "      <td>PSC 4273, Box 0888\\nAPO AA 28423</td>\n",
              "      <td>5161033759518983</td>\n",
              "    </tr>\n",
              "    <tr>\n",
              "      <th>1</th>\n",
              "      <td>coryguzman@example.com</td>\n",
              "      <td>sdv-id-UpYymO</td>\n",
              "      <td>False</td>\n",
              "      <td>BASIC</td>\n",
              "      <td>18.22</td>\n",
              "      <td>09 Jun 2020</td>\n",
              "      <td>15 Mar 2020</td>\n",
              "      <td>88.97</td>\n",
              "      <td>417 Lawrence Hollow\\nEast Ericshire, IN 65660</td>\n",
              "      <td>4133047413145475690</td>\n",
              "    </tr>\n",
              "    <tr>\n",
              "      <th>2</th>\n",
              "      <td>caitlinlee@example.net</td>\n",
              "      <td>sdv-id-UpYymO</td>\n",
              "      <td>False</td>\n",
              "      <td>BASIC</td>\n",
              "      <td>11.87</td>\n",
              "      <td>09 Sep 2020</td>\n",
              "      <td>30 Aug 2020</td>\n",
              "      <td>88.68</td>\n",
              "      <td>69754 Mcguire Haven Apt. 260\\nCrawfordside, IN...</td>\n",
              "      <td>4977328103788</td>\n",
              "    </tr>\n",
              "  </tbody>\n",
              "</table>\n",
              "</div>\n",
              "    <div class=\"colab-df-buttons\">\n",
              "\n",
              "  <div class=\"colab-df-container\">\n",
              "    <button class=\"colab-df-convert\" onclick=\"convertToInteractive('df-0cdf8662-1318-4c6d-bb0d-950853e8e50f')\"\n",
              "            title=\"Convert this dataframe to an interactive table.\"\n",
              "            style=\"display:none;\">\n",
              "\n",
              "  <svg xmlns=\"http://www.w3.org/2000/svg\" height=\"24px\" viewBox=\"0 -960 960 960\">\n",
              "    <path d=\"M120-120v-720h720v720H120Zm60-500h600v-160H180v160Zm220 220h160v-160H400v160Zm0 220h160v-160H400v160ZM180-400h160v-160H180v160Zm440 0h160v-160H620v160ZM180-180h160v-160H180v160Zm440 0h160v-160H620v160Z\"/>\n",
              "  </svg>\n",
              "    </button>\n",
              "\n",
              "  <style>\n",
              "    .colab-df-container {\n",
              "      display:flex;\n",
              "      gap: 12px;\n",
              "    }\n",
              "\n",
              "    .colab-df-convert {\n",
              "      background-color: #E8F0FE;\n",
              "      border: none;\n",
              "      border-radius: 50%;\n",
              "      cursor: pointer;\n",
              "      display: none;\n",
              "      fill: #1967D2;\n",
              "      height: 32px;\n",
              "      padding: 0 0 0 0;\n",
              "      width: 32px;\n",
              "    }\n",
              "\n",
              "    .colab-df-convert:hover {\n",
              "      background-color: #E2EBFA;\n",
              "      box-shadow: 0px 1px 2px rgba(60, 64, 67, 0.3), 0px 1px 3px 1px rgba(60, 64, 67, 0.15);\n",
              "      fill: #174EA6;\n",
              "    }\n",
              "\n",
              "    .colab-df-buttons div {\n",
              "      margin-bottom: 4px;\n",
              "    }\n",
              "\n",
              "    [theme=dark] .colab-df-convert {\n",
              "      background-color: #3B4455;\n",
              "      fill: #D2E3FC;\n",
              "    }\n",
              "\n",
              "    [theme=dark] .colab-df-convert:hover {\n",
              "      background-color: #434B5C;\n",
              "      box-shadow: 0px 1px 3px 1px rgba(0, 0, 0, 0.15);\n",
              "      filter: drop-shadow(0px 1px 2px rgba(0, 0, 0, 0.3));\n",
              "      fill: #FFFFFF;\n",
              "    }\n",
              "  </style>\n",
              "\n",
              "    <script>\n",
              "      const buttonEl =\n",
              "        document.querySelector('#df-0cdf8662-1318-4c6d-bb0d-950853e8e50f button.colab-df-convert');\n",
              "      buttonEl.style.display =\n",
              "        google.colab.kernel.accessAllowed ? 'block' : 'none';\n",
              "\n",
              "      async function convertToInteractive(key) {\n",
              "        const element = document.querySelector('#df-0cdf8662-1318-4c6d-bb0d-950853e8e50f');\n",
              "        const dataTable =\n",
              "          await google.colab.kernel.invokeFunction('convertToInteractive',\n",
              "                                                    [key], {});\n",
              "        if (!dataTable) return;\n",
              "\n",
              "        const docLinkHtml = 'Like what you see? Visit the ' +\n",
              "          '<a target=\"_blank\" href=https://colab.research.google.com/notebooks/data_table.ipynb>data table notebook</a>'\n",
              "          + ' to learn more about interactive tables.';\n",
              "        element.innerHTML = '';\n",
              "        dataTable['output_type'] = 'display_data';\n",
              "        await google.colab.output.renderOutput(dataTable, element);\n",
              "        const docLink = document.createElement('div');\n",
              "        docLink.innerHTML = docLinkHtml;\n",
              "        element.appendChild(docLink);\n",
              "      }\n",
              "    </script>\n",
              "  </div>\n",
              "\n",
              "\n",
              "<div id=\"df-4350cd48-792d-447b-9a00-1afb61652576\">\n",
              "  <button class=\"colab-df-quickchart\" onclick=\"quickchart('df-4350cd48-792d-447b-9a00-1afb61652576')\"\n",
              "            title=\"Suggest charts\"\n",
              "            style=\"display:none;\">\n",
              "\n",
              "<svg xmlns=\"http://www.w3.org/2000/svg\" height=\"24px\"viewBox=\"0 0 24 24\"\n",
              "     width=\"24px\">\n",
              "    <g>\n",
              "        <path d=\"M19 3H5c-1.1 0-2 .9-2 2v14c0 1.1.9 2 2 2h14c1.1 0 2-.9 2-2V5c0-1.1-.9-2-2-2zM9 17H7v-7h2v7zm4 0h-2V7h2v10zm4 0h-2v-4h2v4z\"/>\n",
              "    </g>\n",
              "</svg>\n",
              "  </button>\n",
              "\n",
              "<style>\n",
              "  .colab-df-quickchart {\n",
              "      --bg-color: #E8F0FE;\n",
              "      --fill-color: #1967D2;\n",
              "      --hover-bg-color: #E2EBFA;\n",
              "      --hover-fill-color: #174EA6;\n",
              "      --disabled-fill-color: #AAA;\n",
              "      --disabled-bg-color: #DDD;\n",
              "  }\n",
              "\n",
              "  [theme=dark] .colab-df-quickchart {\n",
              "      --bg-color: #3B4455;\n",
              "      --fill-color: #D2E3FC;\n",
              "      --hover-bg-color: #434B5C;\n",
              "      --hover-fill-color: #FFFFFF;\n",
              "      --disabled-bg-color: #3B4455;\n",
              "      --disabled-fill-color: #666;\n",
              "  }\n",
              "\n",
              "  .colab-df-quickchart {\n",
              "    background-color: var(--bg-color);\n",
              "    border: none;\n",
              "    border-radius: 50%;\n",
              "    cursor: pointer;\n",
              "    display: none;\n",
              "    fill: var(--fill-color);\n",
              "    height: 32px;\n",
              "    padding: 0;\n",
              "    width: 32px;\n",
              "  }\n",
              "\n",
              "  .colab-df-quickchart:hover {\n",
              "    background-color: var(--hover-bg-color);\n",
              "    box-shadow: 0 1px 2px rgba(60, 64, 67, 0.3), 0 1px 3px 1px rgba(60, 64, 67, 0.15);\n",
              "    fill: var(--button-hover-fill-color);\n",
              "  }\n",
              "\n",
              "  .colab-df-quickchart-complete:disabled,\n",
              "  .colab-df-quickchart-complete:disabled:hover {\n",
              "    background-color: var(--disabled-bg-color);\n",
              "    fill: var(--disabled-fill-color);\n",
              "    box-shadow: none;\n",
              "  }\n",
              "\n",
              "  .colab-df-spinner {\n",
              "    border: 2px solid var(--fill-color);\n",
              "    border-color: transparent;\n",
              "    border-bottom-color: var(--fill-color);\n",
              "    animation:\n",
              "      spin 1s steps(1) infinite;\n",
              "  }\n",
              "\n",
              "  @keyframes spin {\n",
              "    0% {\n",
              "      border-color: transparent;\n",
              "      border-bottom-color: var(--fill-color);\n",
              "      border-left-color: var(--fill-color);\n",
              "    }\n",
              "    20% {\n",
              "      border-color: transparent;\n",
              "      border-left-color: var(--fill-color);\n",
              "      border-top-color: var(--fill-color);\n",
              "    }\n",
              "    30% {\n",
              "      border-color: transparent;\n",
              "      border-left-color: var(--fill-color);\n",
              "      border-top-color: var(--fill-color);\n",
              "      border-right-color: var(--fill-color);\n",
              "    }\n",
              "    40% {\n",
              "      border-color: transparent;\n",
              "      border-right-color: var(--fill-color);\n",
              "      border-top-color: var(--fill-color);\n",
              "    }\n",
              "    60% {\n",
              "      border-color: transparent;\n",
              "      border-right-color: var(--fill-color);\n",
              "    }\n",
              "    80% {\n",
              "      border-color: transparent;\n",
              "      border-right-color: var(--fill-color);\n",
              "      border-bottom-color: var(--fill-color);\n",
              "    }\n",
              "    90% {\n",
              "      border-color: transparent;\n",
              "      border-bottom-color: var(--fill-color);\n",
              "    }\n",
              "  }\n",
              "</style>\n",
              "\n",
              "  <script>\n",
              "    async function quickchart(key) {\n",
              "      const quickchartButtonEl =\n",
              "        document.querySelector('#' + key + ' button');\n",
              "      quickchartButtonEl.disabled = true;  // To prevent multiple clicks.\n",
              "      quickchartButtonEl.classList.add('colab-df-spinner');\n",
              "      try {\n",
              "        const charts = await google.colab.kernel.invokeFunction(\n",
              "            'suggestCharts', [key], {});\n",
              "      } catch (error) {\n",
              "        console.error('Error during call to suggestCharts:', error);\n",
              "      }\n",
              "      quickchartButtonEl.classList.remove('colab-df-spinner');\n",
              "      quickchartButtonEl.classList.add('colab-df-quickchart-complete');\n",
              "    }\n",
              "    (() => {\n",
              "      let quickchartButtonEl =\n",
              "        document.querySelector('#df-4350cd48-792d-447b-9a00-1afb61652576 button');\n",
              "      quickchartButtonEl.style.display =\n",
              "        google.colab.kernel.accessAllowed ? 'block' : 'none';\n",
              "    })();\n",
              "  </script>\n",
              "</div>\n",
              "\n",
              "    </div>\n",
              "  </div>\n"
            ],
            "application/vnd.google.colaboratory.intrinsic+json": {
              "type": "dataframe",
              "summary": "{\n  \"name\": \"synthetic_data['guests']\",\n  \"rows\": 3,\n  \"fields\": [\n    {\n      \"column\": \"guest_email\",\n      \"properties\": {\n        \"dtype\": \"string\",\n        \"num_unique_values\": 3,\n        \"samples\": [\n          \"moodyeric@example.net\",\n          \"coryguzman@example.com\",\n          \"caitlinlee@example.net\"\n        ],\n        \"semantic_type\": \"\",\n        \"description\": \"\"\n      }\n    },\n    {\n      \"column\": \"hotel_id\",\n      \"properties\": {\n        \"dtype\": \"category\",\n        \"num_unique_values\": 1,\n        \"samples\": [\n          \"sdv-id-UpYymO\"\n        ],\n        \"semantic_type\": \"\",\n        \"description\": \"\"\n      }\n    },\n    {\n      \"column\": \"has_rewards\",\n      \"properties\": {\n        \"dtype\": \"boolean\",\n        \"num_unique_values\": 1,\n        \"samples\": [\n          false\n        ],\n        \"semantic_type\": \"\",\n        \"description\": \"\"\n      }\n    },\n    {\n      \"column\": \"room_type\",\n      \"properties\": {\n        \"dtype\": \"category\",\n        \"num_unique_values\": 1,\n        \"samples\": [\n          \"BASIC\"\n        ],\n        \"semantic_type\": \"\",\n        \"description\": \"\"\n      }\n    },\n    {\n      \"column\": \"amenities_fee\",\n      \"properties\": {\n        \"dtype\": \"number\",\n        \"std\": 7.367430578792944,\n        \"min\": 11.87,\n        \"max\": 26.56,\n        \"num_unique_values\": 3,\n        \"samples\": [\n          26.56\n        ],\n        \"semantic_type\": \"\",\n        \"description\": \"\"\n      }\n    },\n    {\n      \"column\": \"checkin_date\",\n      \"properties\": {\n        \"dtype\": \"object\",\n        \"num_unique_values\": 3,\n        \"samples\": [\n          \"15 Nov 2020\"\n        ],\n        \"semantic_type\": \"\",\n        \"description\": \"\"\n      }\n    },\n    {\n      \"column\": \"checkout_date\",\n      \"properties\": {\n        \"dtype\": \"object\",\n        \"num_unique_values\": 3,\n        \"samples\": [\n          \"23 Oct 2020\"\n        ],\n        \"semantic_type\": \"\",\n        \"description\": \"\"\n      }\n    },\n    {\n      \"column\": \"room_rate\",\n      \"properties\": {\n        \"dtype\": \"number\",\n        \"std\": 0.16743157806498687,\n        \"min\": 88.68,\n        \"max\": 88.97,\n        \"num_unique_values\": 2,\n        \"samples\": [\n          88.97\n        ],\n        \"semantic_type\": \"\",\n        \"description\": \"\"\n      }\n    },\n    {\n      \"column\": \"billing_address\",\n      \"properties\": {\n        \"dtype\": \"string\",\n        \"num_unique_values\": 3,\n        \"samples\": [\n          \"PSC 4273, Box 0888\\nAPO AA 28423\"\n        ],\n        \"semantic_type\": \"\",\n        \"description\": \"\"\n      }\n    },\n    {\n      \"column\": \"credit_card_number\",\n      \"properties\": {\n        \"dtype\": \"number\",\n        \"std\": 2384726131106925056,\n        \"min\": 4977328103788,\n        \"max\": 4133047413145475690,\n        \"num_unique_values\": 3,\n        \"samples\": [\n          5161033759518983\n        ],\n        \"semantic_type\": \"\",\n        \"description\": \"\"\n      }\n    }\n  ]\n}"
            }
          },
          "metadata": {},
          "execution_count": 18
        }
      ],
      "source": [
        "synthetic_data['guests'].head(3)"
      ]
    },
    {
      "cell_type": "markdown",
      "metadata": {
        "id": "y4236HmDC9Od"
      },
      "source": [
        "# 4. What's Next?\n",
        "\n",
        "Visit the **[metadata documentation](https://docs.sdv.dev/sdv/reference/metadata-spec)** for more information.\n",
        "\n",
        "You may also be interested in our tutorials for **[synthesizing a table](https://colab.research.google.com/drive/1XCwu7NaCYXf3kkhlx4Iei4w2KrXzr1zo)** or **[synthesizing multi tables](https://colab.research.google.com/drive/1h_xwzHXrif-xEOC39amYC6xfNPu5hDA1)**.\n",
        "\n",
        "**Need more help?** [Browse all tutorials](https://docs.sdv.dev/sdv/demos)."
      ]
    },
    {
      "cell_type": "markdown",
      "metadata": {
        "id": "ZKTZmm0CC-4z"
      },
      "source": [
        "---\n",
        "\n",
        "# About\n",
        "\n",
        "The [Synthetic Data Vault Project](https://github.com/sdv-dev/SDV) was first created at MIT's Data to AI Lab in 2016. After 4 years of research and traction with enterprise, we created [DataCebo](https://datacebo.com/) in 2020 with the goal of growing the project. Today, DataCebo is the proud developer of SDV, the largest ecosystem for tabular synthetic data generation & evaluation."
      ]
    },
    {
      "cell_type": "markdown",
      "metadata": {
        "id": "TiPyzRrNDAgS"
      },
      "source": [
        "![datacebo-banner-linkedin-03-22-21.png](data:image/png;base64,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)"
      ]
    }
  ],
  "metadata": {
    "colab": {
      "provenance": [],
      "toc_visible": true,
      "include_colab_link": true
    },
    "kernelspec": {
      "display_name": "Python 3",
      "name": "python3"
    },
    "language_info": {
      "name": "python"
    }
  },
  "nbformat": 4,
  "nbformat_minor": 0
}